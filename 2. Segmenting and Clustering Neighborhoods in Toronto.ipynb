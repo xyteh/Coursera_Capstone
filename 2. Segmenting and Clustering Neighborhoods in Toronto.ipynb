{
 "cells": [
  {
   "cell_type": "markdown",
   "metadata": {},
   "source": [
    "# Segmenting and Clustering Neighborhoods in Toronto"
   ]
  },
  {
   "cell_type": "markdown",
   "metadata": {},
   "source": [
    "Data on neighborhoods in Toronto is scraped from the following Wikipedia page, https://en.wikipedia.org/wiki/List_of_postal_codes_of_Canada:_M"
   ]
  },
  {
   "cell_type": "markdown",
   "metadata": {},
   "source": [
    "## Libraries Used"
   ]
  },
  {
   "cell_type": "code",
   "execution_count": 143,
   "metadata": {},
   "outputs": [],
   "source": [
    "import pandas as pd\n",
    "import numpy as np\n",
    "import requests\n",
    "from bs4 import BeautifulSoup\n",
    "import folium\n",
    "from sklearn.cluster import KMeans\n",
    "from matplotlib import cm\n",
    "from matplotlib import colors"
   ]
  },
  {
   "cell_type": "markdown",
   "metadata": {},
   "source": [
    "## Scrape data from wikipedia with BeautifulSoup"
   ]
  },
  {
   "cell_type": "code",
   "execution_count": 94,
   "metadata": {},
   "outputs": [],
   "source": [
    "url =  \"https://en.wikipedia.org/wiki/List_of_postal_codes_of_Canada:_M\"\n",
    "html_content = requests.get(url).text"
   ]
  },
  {
   "cell_type": "code",
   "execution_count": 95,
   "metadata": {},
   "outputs": [],
   "source": [
    "soup = BeautifulSoup(html_content, 'xml')"
   ]
  },
  {
   "cell_type": "code",
   "execution_count": 96,
   "metadata": {},
   "outputs": [],
   "source": [
    "table = soup.find('table')"
   ]
  },
  {
   "cell_type": "code",
   "execution_count": 97,
   "metadata": {},
   "outputs": [],
   "source": [
    "# Create a dataframe with 3 columns: PostalCode, Borough and Neighborhood\n",
    "col = ['Postalcode','Borough','Neighborhood']\n",
    "df = pd.DataFrame(columns = col)"
   ]
  },
  {
   "cell_type": "code",
   "execution_count": 98,
   "metadata": {},
   "outputs": [],
   "source": [
    "# Get all data in PostalCode, Borough and Neighborhood \n",
    "for tr in table.find_all('tr'):\n",
    "    row = []\n",
    "    for td in tr.find_all('td'):\n",
    "        row.append(td.text.strip())\n",
    "    if len(row)==3:\n",
    "        df.loc[len(df)] = row"
   ]
  },
  {
   "cell_type": "code",
   "execution_count": 99,
   "metadata": {},
   "outputs": [
    {
     "data": {
      "text/html": [
       "<div>\n",
       "<style scoped>\n",
       "    .dataframe tbody tr th:only-of-type {\n",
       "        vertical-align: middle;\n",
       "    }\n",
       "\n",
       "    .dataframe tbody tr th {\n",
       "        vertical-align: top;\n",
       "    }\n",
       "\n",
       "    .dataframe thead th {\n",
       "        text-align: right;\n",
       "    }\n",
       "</style>\n",
       "<table border=\"1\" class=\"dataframe\">\n",
       "  <thead>\n",
       "    <tr style=\"text-align: right;\">\n",
       "      <th></th>\n",
       "      <th>Postalcode</th>\n",
       "      <th>Borough</th>\n",
       "      <th>Neighborhood</th>\n",
       "    </tr>\n",
       "  </thead>\n",
       "  <tbody>\n",
       "    <tr>\n",
       "      <th>0</th>\n",
       "      <td>M1A</td>\n",
       "      <td>Not assigned</td>\n",
       "      <td>Not assigned</td>\n",
       "    </tr>\n",
       "    <tr>\n",
       "      <th>1</th>\n",
       "      <td>M2A</td>\n",
       "      <td>Not assigned</td>\n",
       "      <td>Not assigned</td>\n",
       "    </tr>\n",
       "    <tr>\n",
       "      <th>2</th>\n",
       "      <td>M3A</td>\n",
       "      <td>North York</td>\n",
       "      <td>Parkwoods</td>\n",
       "    </tr>\n",
       "    <tr>\n",
       "      <th>3</th>\n",
       "      <td>M4A</td>\n",
       "      <td>North York</td>\n",
       "      <td>Victoria Village</td>\n",
       "    </tr>\n",
       "    <tr>\n",
       "      <th>4</th>\n",
       "      <td>M5A</td>\n",
       "      <td>Downtown Toronto</td>\n",
       "      <td>Regent Park, Harbourfront</td>\n",
       "    </tr>\n",
       "  </tbody>\n",
       "</table>\n",
       "</div>"
      ],
      "text/plain": [
       "  Postalcode           Borough               Neighborhood\n",
       "0        M1A      Not assigned               Not assigned\n",
       "1        M2A      Not assigned               Not assigned\n",
       "2        M3A        North York                  Parkwoods\n",
       "3        M4A        North York           Victoria Village\n",
       "4        M5A  Downtown Toronto  Regent Park, Harbourfront"
      ]
     },
     "execution_count": 99,
     "metadata": {},
     "output_type": "execute_result"
    }
   ],
   "source": [
    "df.head()"
   ]
  },
  {
   "cell_type": "markdown",
   "metadata": {},
   "source": [
    "## Data Processing and Data Cleaning"
   ]
  },
  {
   "cell_type": "code",
   "execution_count": 100,
   "metadata": {},
   "outputs": [],
   "source": [
    "# Remove row with a borough that is Not assigned\n",
    "df = df[df.Borough != 'Not assigned'].reset_index(drop = True)"
   ]
  },
  {
   "cell_type": "code",
   "execution_count": 101,
   "metadata": {},
   "outputs": [
    {
     "data": {
      "text/html": [
       "<div>\n",
       "<style scoped>\n",
       "    .dataframe tbody tr th:only-of-type {\n",
       "        vertical-align: middle;\n",
       "    }\n",
       "\n",
       "    .dataframe tbody tr th {\n",
       "        vertical-align: top;\n",
       "    }\n",
       "\n",
       "    .dataframe thead th {\n",
       "        text-align: right;\n",
       "    }\n",
       "</style>\n",
       "<table border=\"1\" class=\"dataframe\">\n",
       "  <thead>\n",
       "    <tr style=\"text-align: right;\">\n",
       "      <th></th>\n",
       "      <th>Postalcode</th>\n",
       "      <th>Borough</th>\n",
       "      <th>Neighborhood</th>\n",
       "    </tr>\n",
       "  </thead>\n",
       "  <tbody>\n",
       "    <tr>\n",
       "      <th>0</th>\n",
       "      <td>M3A</td>\n",
       "      <td>North York</td>\n",
       "      <td>Parkwoods</td>\n",
       "    </tr>\n",
       "    <tr>\n",
       "      <th>1</th>\n",
       "      <td>M4A</td>\n",
       "      <td>North York</td>\n",
       "      <td>Victoria Village</td>\n",
       "    </tr>\n",
       "    <tr>\n",
       "      <th>2</th>\n",
       "      <td>M5A</td>\n",
       "      <td>Downtown Toronto</td>\n",
       "      <td>Regent Park, Harbourfront</td>\n",
       "    </tr>\n",
       "    <tr>\n",
       "      <th>3</th>\n",
       "      <td>M6A</td>\n",
       "      <td>North York</td>\n",
       "      <td>Lawrence Manor, Lawrence Heights</td>\n",
       "    </tr>\n",
       "    <tr>\n",
       "      <th>4</th>\n",
       "      <td>M7A</td>\n",
       "      <td>Downtown Toronto</td>\n",
       "      <td>Queen's Park, Ontario Provincial Government</td>\n",
       "    </tr>\n",
       "  </tbody>\n",
       "</table>\n",
       "</div>"
      ],
      "text/plain": [
       "  Postalcode           Borough                                 Neighborhood\n",
       "0        M3A        North York                                    Parkwoods\n",
       "1        M4A        North York                             Victoria Village\n",
       "2        M5A  Downtown Toronto                    Regent Park, Harbourfront\n",
       "3        M6A        North York             Lawrence Manor, Lawrence Heights\n",
       "4        M7A  Downtown Toronto  Queen's Park, Ontario Provincial Government"
      ]
     },
     "execution_count": 101,
     "metadata": {},
     "output_type": "execute_result"
    }
   ],
   "source": [
    "df.head()"
   ]
  },
  {
   "cell_type": "code",
   "execution_count": 102,
   "metadata": {},
   "outputs": [],
   "source": [
    "# Combine neighbourhoods with same Postalcode\n",
    "df = df.groupby(['Postalcode','Borough'], sort=False).agg(', '.join)\n",
    "df = pd.DataFrame(temp).reset_index()"
   ]
  },
  {
   "cell_type": "code",
   "execution_count": 103,
   "metadata": {},
   "outputs": [
    {
     "data": {
      "text/plain": [
       "(103, 4)"
      ]
     },
     "execution_count": 103,
     "metadata": {},
     "output_type": "execute_result"
    }
   ],
   "source": [
    "df.shape"
   ]
  },
  {
   "cell_type": "markdown",
   "metadata": {},
   "source": [
    "### Adding Geospacial Data to Dataframe"
   ]
  },
  {
   "cell_type": "code",
   "execution_count": 105,
   "metadata": {},
   "outputs": [],
   "source": [
    "geo_data = pd.read_csv('http://cocl.us/Geospatial_data')"
   ]
  },
  {
   "cell_type": "code",
   "execution_count": 106,
   "metadata": {},
   "outputs": [
    {
     "data": {
      "text/html": [
       "<div>\n",
       "<style scoped>\n",
       "    .dataframe tbody tr th:only-of-type {\n",
       "        vertical-align: middle;\n",
       "    }\n",
       "\n",
       "    .dataframe tbody tr th {\n",
       "        vertical-align: top;\n",
       "    }\n",
       "\n",
       "    .dataframe thead th {\n",
       "        text-align: right;\n",
       "    }\n",
       "</style>\n",
       "<table border=\"1\" class=\"dataframe\">\n",
       "  <thead>\n",
       "    <tr style=\"text-align: right;\">\n",
       "      <th></th>\n",
       "      <th>Postal Code</th>\n",
       "      <th>Latitude</th>\n",
       "      <th>Longitude</th>\n",
       "    </tr>\n",
       "  </thead>\n",
       "  <tbody>\n",
       "    <tr>\n",
       "      <th>0</th>\n",
       "      <td>M1B</td>\n",
       "      <td>43.806686</td>\n",
       "      <td>-79.194353</td>\n",
       "    </tr>\n",
       "    <tr>\n",
       "      <th>1</th>\n",
       "      <td>M1C</td>\n",
       "      <td>43.784535</td>\n",
       "      <td>-79.160497</td>\n",
       "    </tr>\n",
       "    <tr>\n",
       "      <th>2</th>\n",
       "      <td>M1E</td>\n",
       "      <td>43.763573</td>\n",
       "      <td>-79.188711</td>\n",
       "    </tr>\n",
       "    <tr>\n",
       "      <th>3</th>\n",
       "      <td>M1G</td>\n",
       "      <td>43.770992</td>\n",
       "      <td>-79.216917</td>\n",
       "    </tr>\n",
       "    <tr>\n",
       "      <th>4</th>\n",
       "      <td>M1H</td>\n",
       "      <td>43.773136</td>\n",
       "      <td>-79.239476</td>\n",
       "    </tr>\n",
       "  </tbody>\n",
       "</table>\n",
       "</div>"
      ],
      "text/plain": [
       "  Postal Code   Latitude  Longitude\n",
       "0         M1B  43.806686 -79.194353\n",
       "1         M1C  43.784535 -79.160497\n",
       "2         M1E  43.763573 -79.188711\n",
       "3         M1G  43.770992 -79.216917\n",
       "4         M1H  43.773136 -79.239476"
      ]
     },
     "execution_count": 106,
     "metadata": {},
     "output_type": "execute_result"
    }
   ],
   "source": [
    "geo_data.head()"
   ]
  },
  {
   "cell_type": "code",
   "execution_count": 107,
   "metadata": {},
   "outputs": [],
   "source": [
    "geo_data = geo_data.rename(columns={'Postal Code':'Postalcode'})\n",
    "df = pd.merge(df, geo_data, on='Postalcode')\n",
    "df = df.drop(['index'], axis=1)"
   ]
  },
  {
   "cell_type": "code",
   "execution_count": 111,
   "metadata": {
    "collapsed": true,
    "jupyter": {
     "outputs_hidden": true
    }
   },
   "outputs": [
    {
     "data": {
      "text/html": [
       "<div>\n",
       "<style scoped>\n",
       "    .dataframe tbody tr th:only-of-type {\n",
       "        vertical-align: middle;\n",
       "    }\n",
       "\n",
       "    .dataframe tbody tr th {\n",
       "        vertical-align: top;\n",
       "    }\n",
       "\n",
       "    .dataframe thead th {\n",
       "        text-align: right;\n",
       "    }\n",
       "</style>\n",
       "<table border=\"1\" class=\"dataframe\">\n",
       "  <thead>\n",
       "    <tr style=\"text-align: right;\">\n",
       "      <th></th>\n",
       "      <th>Postalcode</th>\n",
       "      <th>Latitude</th>\n",
       "      <th>Longitude</th>\n",
       "      <th>Borough</th>\n",
       "      <th>Neighborhood</th>\n",
       "    </tr>\n",
       "  </thead>\n",
       "  <tbody>\n",
       "    <tr>\n",
       "      <th>0</th>\n",
       "      <td>M1B</td>\n",
       "      <td>43.806686</td>\n",
       "      <td>-79.194353</td>\n",
       "      <td>Scarborough</td>\n",
       "      <td>Malvern, Rouge</td>\n",
       "    </tr>\n",
       "    <tr>\n",
       "      <th>1</th>\n",
       "      <td>M1C</td>\n",
       "      <td>43.784535</td>\n",
       "      <td>-79.160497</td>\n",
       "      <td>Scarborough</td>\n",
       "      <td>Rouge Hill, Port Union, Highland Creek</td>\n",
       "    </tr>\n",
       "    <tr>\n",
       "      <th>2</th>\n",
       "      <td>M1E</td>\n",
       "      <td>43.763573</td>\n",
       "      <td>-79.188711</td>\n",
       "      <td>Scarborough</td>\n",
       "      <td>Guildwood, Morningside, West Hill</td>\n",
       "    </tr>\n",
       "    <tr>\n",
       "      <th>3</th>\n",
       "      <td>M1G</td>\n",
       "      <td>43.770992</td>\n",
       "      <td>-79.216917</td>\n",
       "      <td>Scarborough</td>\n",
       "      <td>Woburn</td>\n",
       "    </tr>\n",
       "    <tr>\n",
       "      <th>4</th>\n",
       "      <td>M1H</td>\n",
       "      <td>43.773136</td>\n",
       "      <td>-79.239476</td>\n",
       "      <td>Scarborough</td>\n",
       "      <td>Cedarbrae</td>\n",
       "    </tr>\n",
       "  </tbody>\n",
       "</table>\n",
       "</div>"
      ],
      "text/plain": [
       "  Postalcode   Latitude  Longitude      Borough  \\\n",
       "0        M1B  43.806686 -79.194353  Scarborough   \n",
       "1        M1C  43.784535 -79.160497  Scarborough   \n",
       "2        M1E  43.763573 -79.188711  Scarborough   \n",
       "3        M1G  43.770992 -79.216917  Scarborough   \n",
       "4        M1H  43.773136 -79.239476  Scarborough   \n",
       "\n",
       "                             Neighborhood  \n",
       "0                          Malvern, Rouge  \n",
       "1  Rouge Hill, Port Union, Highland Creek  \n",
       "2       Guildwood, Morningside, West Hill  \n",
       "3                                  Woburn  \n",
       "4                               Cedarbrae  "
      ]
     },
     "execution_count": 111,
     "metadata": {},
     "output_type": "execute_result"
    }
   ],
   "source": [
    "df.head()"
   ]
  },
  {
   "cell_type": "markdown",
   "metadata": {},
   "source": [
    "## Plot the neighborhoods in Toronto with Folium"
   ]
  },
  {
   "cell_type": "code",
   "execution_count": 116,
   "metadata": {},
   "outputs": [],
   "source": [
    "# Getting data that rows that contain Toronto in Borough\n",
    "toronto = df[df['Borough'].str.contains('Toronto')].reset_index(drop = True)"
   ]
  },
  {
   "cell_type": "code",
   "execution_count": 117,
   "metadata": {},
   "outputs": [
    {
     "data": {
      "text/html": [
       "<div>\n",
       "<style scoped>\n",
       "    .dataframe tbody tr th:only-of-type {\n",
       "        vertical-align: middle;\n",
       "    }\n",
       "\n",
       "    .dataframe tbody tr th {\n",
       "        vertical-align: top;\n",
       "    }\n",
       "\n",
       "    .dataframe thead th {\n",
       "        text-align: right;\n",
       "    }\n",
       "</style>\n",
       "<table border=\"1\" class=\"dataframe\">\n",
       "  <thead>\n",
       "    <tr style=\"text-align: right;\">\n",
       "      <th></th>\n",
       "      <th>Postalcode</th>\n",
       "      <th>Latitude</th>\n",
       "      <th>Longitude</th>\n",
       "      <th>Borough</th>\n",
       "      <th>Neighborhood</th>\n",
       "    </tr>\n",
       "  </thead>\n",
       "  <tbody>\n",
       "    <tr>\n",
       "      <th>0</th>\n",
       "      <td>M4E</td>\n",
       "      <td>43.676357</td>\n",
       "      <td>-79.293031</td>\n",
       "      <td>East Toronto</td>\n",
       "      <td>The Beaches</td>\n",
       "    </tr>\n",
       "    <tr>\n",
       "      <th>1</th>\n",
       "      <td>M4K</td>\n",
       "      <td>43.679557</td>\n",
       "      <td>-79.352188</td>\n",
       "      <td>East Toronto</td>\n",
       "      <td>The Danforth West, Riverdale</td>\n",
       "    </tr>\n",
       "    <tr>\n",
       "      <th>2</th>\n",
       "      <td>M4L</td>\n",
       "      <td>43.668999</td>\n",
       "      <td>-79.315572</td>\n",
       "      <td>East Toronto</td>\n",
       "      <td>India Bazaar, The Beaches West</td>\n",
       "    </tr>\n",
       "    <tr>\n",
       "      <th>3</th>\n",
       "      <td>M4M</td>\n",
       "      <td>43.659526</td>\n",
       "      <td>-79.340923</td>\n",
       "      <td>East Toronto</td>\n",
       "      <td>Studio District</td>\n",
       "    </tr>\n",
       "    <tr>\n",
       "      <th>4</th>\n",
       "      <td>M4N</td>\n",
       "      <td>43.728020</td>\n",
       "      <td>-79.388790</td>\n",
       "      <td>Central Toronto</td>\n",
       "      <td>Lawrence Park</td>\n",
       "    </tr>\n",
       "  </tbody>\n",
       "</table>\n",
       "</div>"
      ],
      "text/plain": [
       "  Postalcode   Latitude  Longitude          Borough  \\\n",
       "0        M4E  43.676357 -79.293031     East Toronto   \n",
       "1        M4K  43.679557 -79.352188     East Toronto   \n",
       "2        M4L  43.668999 -79.315572     East Toronto   \n",
       "3        M4M  43.659526 -79.340923     East Toronto   \n",
       "4        M4N  43.728020 -79.388790  Central Toronto   \n",
       "\n",
       "                     Neighborhood  \n",
       "0                     The Beaches  \n",
       "1    The Danforth West, Riverdale  \n",
       "2  India Bazaar, The Beaches West  \n",
       "3                 Studio District  \n",
       "4                   Lawrence Park  "
      ]
     },
     "execution_count": 117,
     "metadata": {},
     "output_type": "execute_result"
    }
   ],
   "source": [
    "toronto.head()"
   ]
  },
  {
   "cell_type": "code",
   "execution_count": 149,
   "metadata": {},
   "outputs": [
    {
     "data": {
      "text/html": [
       "<div style=\"width:100%;\"><div style=\"position:relative;width:100%;height:0;padding-bottom:60%;\"><span style=\"color:#565656\">Make this Notebook Trusted to load map: File -> Trust Notebook</span><iframe src=\"about:blank\" style=\"position:absolute;width:100%;height:100%;left:0;top:0;border:none !important;\" data-html=PCFET0NUWVBFIGh0bWw+CjxoZWFkPiAgICAKICAgIDxtZXRhIGh0dHAtZXF1aXY9ImNvbnRlbnQtdHlwZSIgY29udGVudD0idGV4dC9odG1sOyBjaGFyc2V0PVVURi04IiAvPgogICAgCiAgICAgICAgPHNjcmlwdD4KICAgICAgICAgICAgTF9OT19UT1VDSCA9IGZhbHNlOwogICAgICAgICAgICBMX0RJU0FCTEVfM0QgPSBmYWxzZTsKICAgICAgICA8L3NjcmlwdD4KICAgIAogICAgPHNjcmlwdCBzcmM9Imh0dHBzOi8vY2RuLmpzZGVsaXZyLm5ldC9ucG0vbGVhZmxldEAxLjYuMC9kaXN0L2xlYWZsZXQuanMiPjwvc2NyaXB0PgogICAgPHNjcmlwdCBzcmM9Imh0dHBzOi8vY29kZS5qcXVlcnkuY29tL2pxdWVyeS0xLjEyLjQubWluLmpzIj48L3NjcmlwdD4KICAgIDxzY3JpcHQgc3JjPSJodHRwczovL21heGNkbi5ib290c3RyYXBjZG4uY29tL2Jvb3RzdHJhcC8zLjIuMC9qcy9ib290c3RyYXAubWluLmpzIj48L3NjcmlwdD4KICAgIDxzY3JpcHQgc3JjPSJodHRwczovL2NkbmpzLmNsb3VkZmxhcmUuY29tL2FqYXgvbGlicy9MZWFmbGV0LmF3ZXNvbWUtbWFya2Vycy8yLjAuMi9sZWFmbGV0LmF3ZXNvbWUtbWFya2Vycy5qcyI+PC9zY3JpcHQ+CiAgICA8bGluayByZWw9InN0eWxlc2hlZXQiIGhyZWY9Imh0dHBzOi8vY2RuLmpzZGVsaXZyLm5ldC9ucG0vbGVhZmxldEAxLjYuMC9kaXN0L2xlYWZsZXQuY3NzIi8+CiAgICA8bGluayByZWw9InN0eWxlc2hlZXQiIGhyZWY9Imh0dHBzOi8vbWF4Y2RuLmJvb3RzdHJhcGNkbi5jb20vYm9vdHN0cmFwLzMuMi4wL2Nzcy9ib290c3RyYXAubWluLmNzcyIvPgogICAgPGxpbmsgcmVsPSJzdHlsZXNoZWV0IiBocmVmPSJodHRwczovL21heGNkbi5ib290c3RyYXBjZG4uY29tL2Jvb3RzdHJhcC8zLjIuMC9jc3MvYm9vdHN0cmFwLXRoZW1lLm1pbi5jc3MiLz4KICAgIDxsaW5rIHJlbD0ic3R5bGVzaGVldCIgaHJlZj0iaHR0cHM6Ly9tYXhjZG4uYm9vdHN0cmFwY2RuLmNvbS9mb250LWF3ZXNvbWUvNC42LjMvY3NzL2ZvbnQtYXdlc29tZS5taW4uY3NzIi8+CiAgICA8bGluayByZWw9InN0eWxlc2hlZXQiIGhyZWY9Imh0dHBzOi8vY2RuanMuY2xvdWRmbGFyZS5jb20vYWpheC9saWJzL0xlYWZsZXQuYXdlc29tZS1tYXJrZXJzLzIuMC4yL2xlYWZsZXQuYXdlc29tZS1tYXJrZXJzLmNzcyIvPgogICAgPGxpbmsgcmVsPSJzdHlsZXNoZWV0IiBocmVmPSJodHRwczovL3Jhd2Nkbi5naXRoYWNrLmNvbS9weXRob24tdmlzdWFsaXphdGlvbi9mb2xpdW0vbWFzdGVyL2ZvbGl1bS90ZW1wbGF0ZXMvbGVhZmxldC5hd2Vzb21lLnJvdGF0ZS5jc3MiLz4KICAgIDxzdHlsZT5odG1sLCBib2R5IHt3aWR0aDogMTAwJTtoZWlnaHQ6IDEwMCU7bWFyZ2luOiAwO3BhZGRpbmc6IDA7fTwvc3R5bGU+CiAgICA8c3R5bGU+I21hcCB7cG9zaXRpb246YWJzb2x1dGU7dG9wOjA7Ym90dG9tOjA7cmlnaHQ6MDtsZWZ0OjA7fTwvc3R5bGU+CiAgICAKICAgICAgICAgICAgPG1ldGEgbmFtZT0idmlld3BvcnQiIGNvbnRlbnQ9IndpZHRoPWRldmljZS13aWR0aCwKICAgICAgICAgICAgICAgIGluaXRpYWwtc2NhbGU9MS4wLCBtYXhpbXVtLXNjYWxlPTEuMCwgdXNlci1zY2FsYWJsZT1ubyIgLz4KICAgICAgICAgICAgPHN0eWxlPgogICAgICAgICAgICAgICAgI21hcF9kMDZlOWY3MTQ4Y2Q0YjlhYWQ5Zjk3ZTUyN2RlNDg2OSB7CiAgICAgICAgICAgICAgICAgICAgcG9zaXRpb246IHJlbGF0aXZlOwogICAgICAgICAgICAgICAgICAgIHdpZHRoOiAxMDAuMCU7CiAgICAgICAgICAgICAgICAgICAgaGVpZ2h0OiAxMDAuMCU7CiAgICAgICAgICAgICAgICAgICAgbGVmdDogMC4wJTsKICAgICAgICAgICAgICAgICAgICB0b3A6IDAuMCU7CiAgICAgICAgICAgICAgICB9CiAgICAgICAgICAgIDwvc3R5bGU+CiAgICAgICAgCjwvaGVhZD4KPGJvZHk+ICAgIAogICAgCiAgICAgICAgICAgIDxkaXYgY2xhc3M9ImZvbGl1bS1tYXAiIGlkPSJtYXBfZDA2ZTlmNzE0OGNkNGI5YWFkOWY5N2U1MjdkZTQ4NjkiID48L2Rpdj4KICAgICAgICAKPC9ib2R5Pgo8c2NyaXB0PiAgICAKICAgIAogICAgICAgICAgICB2YXIgbWFwX2QwNmU5ZjcxNDhjZDRiOWFhZDlmOTdlNTI3ZGU0ODY5ID0gTC5tYXAoCiAgICAgICAgICAgICAgICAibWFwX2QwNmU5ZjcxNDhjZDRiOWFhZDlmOTdlNTI3ZGU0ODY5IiwKICAgICAgICAgICAgICAgIHsKICAgICAgICAgICAgICAgICAgICBjZW50ZXI6IFs0My42NTMyLCAtNzkuMzgzMl0sCiAgICAgICAgICAgICAgICAgICAgY3JzOiBMLkNSUy5FUFNHMzg1NywKICAgICAgICAgICAgICAgICAgICB6b29tOiAxMiwKICAgICAgICAgICAgICAgICAgICB6b29tQ29udHJvbDogdHJ1ZSwKICAgICAgICAgICAgICAgICAgICBwcmVmZXJDYW52YXM6IGZhbHNlLAogICAgICAgICAgICAgICAgfQogICAgICAgICAgICApOwoKICAgICAgICAgICAgCgogICAgICAgIAogICAgCiAgICAgICAgICAgIHZhciB0aWxlX2xheWVyX2ZiYmZkYzk2ZjYwYjRhMTRiNWYwNzM3MDVkYmRiY2FiID0gTC50aWxlTGF5ZXIoCiAgICAgICAgICAgICAgICAiaHR0cHM6Ly97c30udGlsZS5vcGVuc3RyZWV0bWFwLm9yZy97en0ve3h9L3t5fS5wbmciLAogICAgICAgICAgICAgICAgeyJhdHRyaWJ1dGlvbiI6ICJEYXRhIGJ5IFx1MDAyNmNvcHk7IFx1MDAzY2EgaHJlZj1cImh0dHA6Ly9vcGVuc3RyZWV0bWFwLm9yZ1wiXHUwMDNlT3BlblN0cmVldE1hcFx1MDAzYy9hXHUwMDNlLCB1bmRlciBcdTAwM2NhIGhyZWY9XCJodHRwOi8vd3d3Lm9wZW5zdHJlZXRtYXAub3JnL2NvcHlyaWdodFwiXHUwMDNlT0RiTFx1MDAzYy9hXHUwMDNlLiIsICJkZXRlY3RSZXRpbmEiOiBmYWxzZSwgIm1heE5hdGl2ZVpvb20iOiAxOCwgIm1heFpvb20iOiAxOCwgIm1pblpvb20iOiAwLCAibm9XcmFwIjogZmFsc2UsICJvcGFjaXR5IjogMSwgInN1YmRvbWFpbnMiOiAiYWJjIiwgInRtcyI6IGZhbHNlfQogICAgICAgICAgICApLmFkZFRvKG1hcF9kMDZlOWY3MTQ4Y2Q0YjlhYWQ5Zjk3ZTUyN2RlNDg2OSk7CiAgICAgICAgCiAgICAKICAgICAgICAgICAgdmFyIGNpcmNsZV9tYXJrZXJfMjYxODAxNTFmZjBiNDU2MmI2MDhjZjMxYTI4ZjNmMDIgPSBMLmNpcmNsZU1hcmtlcigKICAgICAgICAgICAgICAgIFs0My42NzYzNTczOTk5OTk5OSwgLTc5LjI5MzAzMTJdLAogICAgICAgICAgICAgICAgeyJidWJibGluZ01vdXNlRXZlbnRzIjogdHJ1ZSwgImNvbG9yIjogImJsdWUiLCAiZGFzaEFycmF5IjogbnVsbCwgImRhc2hPZmZzZXQiOiBudWxsLCAiZmlsbCI6IHRydWUsICJmaWxsQ29sb3IiOiAiIzMxODZjYyIsICJmaWxsT3BhY2l0eSI6IDAuNSwgImZpbGxSdWxlIjogImV2ZW5vZGQiLCAibGluZUNhcCI6ICJyb3VuZCIsICJsaW5lSm9pbiI6ICJyb3VuZCIsICJvcGFjaXR5IjogMS4wLCAicmFkaXVzIjogNSwgInN0cm9rZSI6IHRydWUsICJ3ZWlnaHQiOiAzfQogICAgICAgICAgICApLmFkZFRvKG1hcF9kMDZlOWY3MTQ4Y2Q0YjlhYWQ5Zjk3ZTUyN2RlNDg2OSk7CiAgICAgICAgCiAgICAKICAgICAgICB2YXIgcG9wdXBfN2ZlMDU1MDg0OTMwNDg2YzgxMDkyNmIyZjYyNmRmOTQgPSBMLnBvcHVwKHsibWF4V2lkdGgiOiAiMTAwJSJ9KTsKCiAgICAgICAgCiAgICAgICAgICAgIHZhciBodG1sXzkyMjY3ZDhkYzg2YzRhY2ZhMjhlZjNkODMwMGFiZDg3ID0gJChgPGRpdiBpZD0iaHRtbF85MjI2N2Q4ZGM4NmM0YWNmYTI4ZWYzZDgzMDBhYmQ4NyIgc3R5bGU9IndpZHRoOiAxMDAuMCU7IGhlaWdodDogMTAwLjAlOyI+VGhlIEJlYWNoZXMsIEVhc3QgVG9yb250bzwvZGl2PmApWzBdOwogICAgICAgICAgICBwb3B1cF83ZmUwNTUwODQ5MzA0ODZjODEwOTI2YjJmNjI2ZGY5NC5zZXRDb250ZW50KGh0bWxfOTIyNjdkOGRjODZjNGFjZmEyOGVmM2Q4MzAwYWJkODcpOwogICAgICAgIAoKICAgICAgICBjaXJjbGVfbWFya2VyXzI2MTgwMTUxZmYwYjQ1NjJiNjA4Y2YzMWEyOGYzZjAyLmJpbmRQb3B1cChwb3B1cF83ZmUwNTUwODQ5MzA0ODZjODEwOTI2YjJmNjI2ZGY5NCkKICAgICAgICA7CgogICAgICAgIAogICAgCiAgICAKICAgICAgICAgICAgdmFyIGNpcmNsZV9tYXJrZXJfNTdkMDVhYzI1NGM0NGJiMDg0OWJkZTU1NWMwYjE2ZDMgPSBMLmNpcmNsZU1hcmtlcigKICAgICAgICAgICAgICAgIFs0My42Nzk1NTcxLCAtNzkuMzUyMTg4XSwKICAgICAgICAgICAgICAgIHsiYnViYmxpbmdNb3VzZUV2ZW50cyI6IHRydWUsICJjb2xvciI6ICJibHVlIiwgImRhc2hBcnJheSI6IG51bGwsICJkYXNoT2Zmc2V0IjogbnVsbCwgImZpbGwiOiB0cnVlLCAiZmlsbENvbG9yIjogIiMzMTg2Y2MiLCAiZmlsbE9wYWNpdHkiOiAwLjUsICJmaWxsUnVsZSI6ICJldmVub2RkIiwgImxpbmVDYXAiOiAicm91bmQiLCAibGluZUpvaW4iOiAicm91bmQiLCAib3BhY2l0eSI6IDEuMCwgInJhZGl1cyI6IDUsICJzdHJva2UiOiB0cnVlLCAid2VpZ2h0IjogM30KICAgICAgICAgICAgKS5hZGRUbyhtYXBfZDA2ZTlmNzE0OGNkNGI5YWFkOWY5N2U1MjdkZTQ4NjkpOwogICAgICAgIAogICAgCiAgICAgICAgdmFyIHBvcHVwXzNmYmUzMzdmN2JmZDRiNWNhNDY5Nzg4MjdiODA2NGNlID0gTC5wb3B1cCh7Im1heFdpZHRoIjogIjEwMCUifSk7CgogICAgICAgIAogICAgICAgICAgICB2YXIgaHRtbF9kMmYxOTIzY2Y4ZDg0OTk0ODA3NjUxMTdkMDRiMWU3MSA9ICQoYDxkaXYgaWQ9Imh0bWxfZDJmMTkyM2NmOGQ4NDk5NDgwNzY1MTE3ZDA0YjFlNzEiIHN0eWxlPSJ3aWR0aDogMTAwLjAlOyBoZWlnaHQ6IDEwMC4wJTsiPlRoZSBEYW5mb3J0aCBXZXN0LCBSaXZlcmRhbGUsIEVhc3QgVG9yb250bzwvZGl2PmApWzBdOwogICAgICAgICAgICBwb3B1cF8zZmJlMzM3ZjdiZmQ0YjVjYTQ2OTc4ODI3YjgwNjRjZS5zZXRDb250ZW50KGh0bWxfZDJmMTkyM2NmOGQ4NDk5NDgwNzY1MTE3ZDA0YjFlNzEpOwogICAgICAgIAoKICAgICAgICBjaXJjbGVfbWFya2VyXzU3ZDA1YWMyNTRjNDRiYjA4NDliZGU1NTVjMGIxNmQzLmJpbmRQb3B1cChwb3B1cF8zZmJlMzM3ZjdiZmQ0YjVjYTQ2OTc4ODI3YjgwNjRjZSkKICAgICAgICA7CgogICAgICAgIAogICAgCiAgICAKICAgICAgICAgICAgdmFyIGNpcmNsZV9tYXJrZXJfNzI5OTAzNWU3OTJjNDE0OGJiMGM0ZGVmNzc3ZWQwYzYgPSBMLmNpcmNsZU1hcmtlcigKICAgICAgICAgICAgICAgIFs0My42Njg5OTg1LCAtNzkuMzE1NTcxNTk5OTk5OThdLAogICAgICAgICAgICAgICAgeyJidWJibGluZ01vdXNlRXZlbnRzIjogdHJ1ZSwgImNvbG9yIjogImJsdWUiLCAiZGFzaEFycmF5IjogbnVsbCwgImRhc2hPZmZzZXQiOiBudWxsLCAiZmlsbCI6IHRydWUsICJmaWxsQ29sb3IiOiAiIzMxODZjYyIsICJmaWxsT3BhY2l0eSI6IDAuNSwgImZpbGxSdWxlIjogImV2ZW5vZGQiLCAibGluZUNhcCI6ICJyb3VuZCIsICJsaW5lSm9pbiI6ICJyb3VuZCIsICJvcGFjaXR5IjogMS4wLCAicmFkaXVzIjogNSwgInN0cm9rZSI6IHRydWUsICJ3ZWlnaHQiOiAzfQogICAgICAgICAgICApLmFkZFRvKG1hcF9kMDZlOWY3MTQ4Y2Q0YjlhYWQ5Zjk3ZTUyN2RlNDg2OSk7CiAgICAgICAgCiAgICAKICAgICAgICB2YXIgcG9wdXBfMDcxODI1ZjBiMGM1NDQ3OTgxMzdkNTY5ODk1Zjk4NDAgPSBMLnBvcHVwKHsibWF4V2lkdGgiOiAiMTAwJSJ9KTsKCiAgICAgICAgCiAgICAgICAgICAgIHZhciBodG1sXzE3M2QxMDdlYTZkZDQyOTliMDA3YjA5N2FiZDBkYjRlID0gJChgPGRpdiBpZD0iaHRtbF8xNzNkMTA3ZWE2ZGQ0Mjk5YjAwN2IwOTdhYmQwZGI0ZSIgc3R5bGU9IndpZHRoOiAxMDAuMCU7IGhlaWdodDogMTAwLjAlOyI+SW5kaWEgQmF6YWFyLCBUaGUgQmVhY2hlcyBXZXN0LCBFYXN0IFRvcm9udG88L2Rpdj5gKVswXTsKICAgICAgICAgICAgcG9wdXBfMDcxODI1ZjBiMGM1NDQ3OTgxMzdkNTY5ODk1Zjk4NDAuc2V0Q29udGVudChodG1sXzE3M2QxMDdlYTZkZDQyOTliMDA3YjA5N2FiZDBkYjRlKTsKICAgICAgICAKCiAgICAgICAgY2lyY2xlX21hcmtlcl83Mjk5MDM1ZTc5MmM0MTQ4YmIwYzRkZWY3NzdlZDBjNi5iaW5kUG9wdXAocG9wdXBfMDcxODI1ZjBiMGM1NDQ3OTgxMzdkNTY5ODk1Zjk4NDApCiAgICAgICAgOwoKICAgICAgICAKICAgIAogICAgCiAgICAgICAgICAgIHZhciBjaXJjbGVfbWFya2VyXzAxNWExMjU2NDAyYjQ1MDA4ODc3Njk4ZjJmZDBjOTZjID0gTC5jaXJjbGVNYXJrZXIoCiAgICAgICAgICAgICAgICBbNDMuNjU5NTI1NSwgLTc5LjM0MDkyM10sCiAgICAgICAgICAgICAgICB7ImJ1YmJsaW5nTW91c2VFdmVudHMiOiB0cnVlLCAiY29sb3IiOiAiYmx1ZSIsICJkYXNoQXJyYXkiOiBudWxsLCAiZGFzaE9mZnNldCI6IG51bGwsICJmaWxsIjogdHJ1ZSwgImZpbGxDb2xvciI6ICIjMzE4NmNjIiwgImZpbGxPcGFjaXR5IjogMC41LCAiZmlsbFJ1bGUiOiAiZXZlbm9kZCIsICJsaW5lQ2FwIjogInJvdW5kIiwgImxpbmVKb2luIjogInJvdW5kIiwgIm9wYWNpdHkiOiAxLjAsICJyYWRpdXMiOiA1LCAic3Ryb2tlIjogdHJ1ZSwgIndlaWdodCI6IDN9CiAgICAgICAgICAgICkuYWRkVG8obWFwX2QwNmU5ZjcxNDhjZDRiOWFhZDlmOTdlNTI3ZGU0ODY5KTsKICAgICAgICAKICAgIAogICAgICAgIHZhciBwb3B1cF8zODdhOWNkYWVjMTg0NWMwOWM3YjRkOGFjYmE3MTJjNCA9IEwucG9wdXAoeyJtYXhXaWR0aCI6ICIxMDAlIn0pOwoKICAgICAgICAKICAgICAgICAgICAgdmFyIGh0bWxfNDljZThhZGE2MmQwNDA0M2FhYTMxYTNjMzAwNzg2M2YgPSAkKGA8ZGl2IGlkPSJodG1sXzQ5Y2U4YWRhNjJkMDQwNDNhYWEzMWEzYzMwMDc4NjNmIiBzdHlsZT0id2lkdGg6IDEwMC4wJTsgaGVpZ2h0OiAxMDAuMCU7Ij5TdHVkaW8gRGlzdHJpY3QsIEVhc3QgVG9yb250bzwvZGl2PmApWzBdOwogICAgICAgICAgICBwb3B1cF8zODdhOWNkYWVjMTg0NWMwOWM3YjRkOGFjYmE3MTJjNC5zZXRDb250ZW50KGh0bWxfNDljZThhZGE2MmQwNDA0M2FhYTMxYTNjMzAwNzg2M2YpOwogICAgICAgIAoKICAgICAgICBjaXJjbGVfbWFya2VyXzAxNWExMjU2NDAyYjQ1MDA4ODc3Njk4ZjJmZDBjOTZjLmJpbmRQb3B1cChwb3B1cF8zODdhOWNkYWVjMTg0NWMwOWM3YjRkOGFjYmE3MTJjNCkKICAgICAgICA7CgogICAgICAgIAogICAgCiAgICAKICAgICAgICAgICAgdmFyIGNpcmNsZV9tYXJrZXJfOTE2N2E3ODE0MTZhNDEyMjkzNTA1NGM3Njc2ZmQyZDMgPSBMLmNpcmNsZU1hcmtlcigKICAgICAgICAgICAgICAgIFs0My43MjgwMjA1LCAtNzkuMzg4NzkwMV0sCiAgICAgICAgICAgICAgICB7ImJ1YmJsaW5nTW91c2VFdmVudHMiOiB0cnVlLCAiY29sb3IiOiAiYmx1ZSIsICJkYXNoQXJyYXkiOiBudWxsLCAiZGFzaE9mZnNldCI6IG51bGwsICJmaWxsIjogdHJ1ZSwgImZpbGxDb2xvciI6ICIjMzE4NmNjIiwgImZpbGxPcGFjaXR5IjogMC41LCAiZmlsbFJ1bGUiOiAiZXZlbm9kZCIsICJsaW5lQ2FwIjogInJvdW5kIiwgImxpbmVKb2luIjogInJvdW5kIiwgIm9wYWNpdHkiOiAxLjAsICJyYWRpdXMiOiA1LCAic3Ryb2tlIjogdHJ1ZSwgIndlaWdodCI6IDN9CiAgICAgICAgICAgICkuYWRkVG8obWFwX2QwNmU5ZjcxNDhjZDRiOWFhZDlmOTdlNTI3ZGU0ODY5KTsKICAgICAgICAKICAgIAogICAgICAgIHZhciBwb3B1cF9lNzkwYThkZjcxNGY0NzhmOGE5Nzg3NmMzOTk1YWRkNCA9IEwucG9wdXAoeyJtYXhXaWR0aCI6ICIxMDAlIn0pOwoKICAgICAgICAKICAgICAgICAgICAgdmFyIGh0bWxfOTY3NjYxYWQxMTFmNDIzYTljNGRhOWExZjZmMjkwNjggPSAkKGA8ZGl2IGlkPSJodG1sXzk2NzY2MWFkMTExZjQyM2E5YzRkYTlhMWY2ZjI5MDY4IiBzdHlsZT0id2lkdGg6IDEwMC4wJTsgaGVpZ2h0OiAxMDAuMCU7Ij5MYXdyZW5jZSBQYXJrLCBDZW50cmFsIFRvcm9udG88L2Rpdj5gKVswXTsKICAgICAgICAgICAgcG9wdXBfZTc5MGE4ZGY3MTRmNDc4ZjhhOTc4NzZjMzk5NWFkZDQuc2V0Q29udGVudChodG1sXzk2NzY2MWFkMTExZjQyM2E5YzRkYTlhMWY2ZjI5MDY4KTsKICAgICAgICAKCiAgICAgICAgY2lyY2xlX21hcmtlcl85MTY3YTc4MTQxNmE0MTIyOTM1MDU0Yzc2NzZmZDJkMy5iaW5kUG9wdXAocG9wdXBfZTc5MGE4ZGY3MTRmNDc4ZjhhOTc4NzZjMzk5NWFkZDQpCiAgICAgICAgOwoKICAgICAgICAKICAgIAogICAgCiAgICAgICAgICAgIHZhciBjaXJjbGVfbWFya2VyX2YxNjBmZTQyMWIxYzQ2ZWU4Y2E0YmE3NWNlOWI2YThlID0gTC5jaXJjbGVNYXJrZXIoCiAgICAgICAgICAgICAgICBbNDMuNzEyNzUxMSwgLTc5LjM5MDE5NzVdLAogICAgICAgICAgICAgICAgeyJidWJibGluZ01vdXNlRXZlbnRzIjogdHJ1ZSwgImNvbG9yIjogImJsdWUiLCAiZGFzaEFycmF5IjogbnVsbCwgImRhc2hPZmZzZXQiOiBudWxsLCAiZmlsbCI6IHRydWUsICJmaWxsQ29sb3IiOiAiIzMxODZjYyIsICJmaWxsT3BhY2l0eSI6IDAuNSwgImZpbGxSdWxlIjogImV2ZW5vZGQiLCAibGluZUNhcCI6ICJyb3VuZCIsICJsaW5lSm9pbiI6ICJyb3VuZCIsICJvcGFjaXR5IjogMS4wLCAicmFkaXVzIjogNSwgInN0cm9rZSI6IHRydWUsICJ3ZWlnaHQiOiAzfQogICAgICAgICAgICApLmFkZFRvKG1hcF9kMDZlOWY3MTQ4Y2Q0YjlhYWQ5Zjk3ZTUyN2RlNDg2OSk7CiAgICAgICAgCiAgICAKICAgICAgICB2YXIgcG9wdXBfZmU0NzMwNzU3ZWI4NGY0YmE4ZTVjYjlmN2VlZGFkYzMgPSBMLnBvcHVwKHsibWF4V2lkdGgiOiAiMTAwJSJ9KTsKCiAgICAgICAgCiAgICAgICAgICAgIHZhciBodG1sX2Y4ZjdiMzNmNDZjZjRjMDViMWI3ODI2NGMyNzY3YmM2ID0gJChgPGRpdiBpZD0iaHRtbF9mOGY3YjMzZjQ2Y2Y0YzA1YjFiNzgyNjRjMjc2N2JjNiIgc3R5bGU9IndpZHRoOiAxMDAuMCU7IGhlaWdodDogMTAwLjAlOyI+RGF2aXN2aWxsZSBOb3J0aCwgQ2VudHJhbCBUb3JvbnRvPC9kaXY+YClbMF07CiAgICAgICAgICAgIHBvcHVwX2ZlNDczMDc1N2ViODRmNGJhOGU1Y2I5ZjdlZWRhZGMzLnNldENvbnRlbnQoaHRtbF9mOGY3YjMzZjQ2Y2Y0YzA1YjFiNzgyNjRjMjc2N2JjNik7CiAgICAgICAgCgogICAgICAgIGNpcmNsZV9tYXJrZXJfZjE2MGZlNDIxYjFjNDZlZThjYTRiYTc1Y2U5YjZhOGUuYmluZFBvcHVwKHBvcHVwX2ZlNDczMDc1N2ViODRmNGJhOGU1Y2I5ZjdlZWRhZGMzKQogICAgICAgIDsKCiAgICAgICAgCiAgICAKICAgIAogICAgICAgICAgICB2YXIgY2lyY2xlX21hcmtlcl83YmEwZmI3MjRmNzc0MzMyYjBjYWI3MTIzYTZlMjEyNSA9IEwuY2lyY2xlTWFya2VyKAogICAgICAgICAgICAgICAgWzQzLjcxNTM4MzQsIC03OS40MDU2Nzg0MDAwMDAwMV0sCiAgICAgICAgICAgICAgICB7ImJ1YmJsaW5nTW91c2VFdmVudHMiOiB0cnVlLCAiY29sb3IiOiAiYmx1ZSIsICJkYXNoQXJyYXkiOiBudWxsLCAiZGFzaE9mZnNldCI6IG51bGwsICJmaWxsIjogdHJ1ZSwgImZpbGxDb2xvciI6ICIjMzE4NmNjIiwgImZpbGxPcGFjaXR5IjogMC41LCAiZmlsbFJ1bGUiOiAiZXZlbm9kZCIsICJsaW5lQ2FwIjogInJvdW5kIiwgImxpbmVKb2luIjogInJvdW5kIiwgIm9wYWNpdHkiOiAxLjAsICJyYWRpdXMiOiA1LCAic3Ryb2tlIjogdHJ1ZSwgIndlaWdodCI6IDN9CiAgICAgICAgICAgICkuYWRkVG8obWFwX2QwNmU5ZjcxNDhjZDRiOWFhZDlmOTdlNTI3ZGU0ODY5KTsKICAgICAgICAKICAgIAogICAgICAgIHZhciBwb3B1cF8yNmYwMzg2ODU5MDI0ZDRjOGY3OTc1NTdiY2ZjY2UyNSA9IEwucG9wdXAoeyJtYXhXaWR0aCI6ICIxMDAlIn0pOwoKICAgICAgICAKICAgICAgICAgICAgdmFyIGh0bWxfMThjMzNmZjA1ZWRiNGNjN2ExMjEwZWFhYmRlODZhYmIgPSAkKGA8ZGl2IGlkPSJodG1sXzE4YzMzZmYwNWVkYjRjYzdhMTIxMGVhYWJkZTg2YWJiIiBzdHlsZT0id2lkdGg6IDEwMC4wJTsgaGVpZ2h0OiAxMDAuMCU7Ij5Ob3J0aCBUb3JvbnRvIFdlc3QsICBMYXdyZW5jZSBQYXJrLCBDZW50cmFsIFRvcm9udG88L2Rpdj5gKVswXTsKICAgICAgICAgICAgcG9wdXBfMjZmMDM4Njg1OTAyNGQ0YzhmNzk3NTU3YmNmY2NlMjUuc2V0Q29udGVudChodG1sXzE4YzMzZmYwNWVkYjRjYzdhMTIxMGVhYWJkZTg2YWJiKTsKICAgICAgICAKCiAgICAgICAgY2lyY2xlX21hcmtlcl83YmEwZmI3MjRmNzc0MzMyYjBjYWI3MTIzYTZlMjEyNS5iaW5kUG9wdXAocG9wdXBfMjZmMDM4Njg1OTAyNGQ0YzhmNzk3NTU3YmNmY2NlMjUpCiAgICAgICAgOwoKICAgICAgICAKICAgIAogICAgCiAgICAgICAgICAgIHZhciBjaXJjbGVfbWFya2VyXzE0NjFkOWMxNzBjZTQyZWY5YTE3NzY4NTAzNmYyOWFmID0gTC5jaXJjbGVNYXJrZXIoCiAgICAgICAgICAgICAgICBbNDMuNzA0MzI0NCwgLTc5LjM4ODc5MDFdLAogICAgICAgICAgICAgICAgeyJidWJibGluZ01vdXNlRXZlbnRzIjogdHJ1ZSwgImNvbG9yIjogImJsdWUiLCAiZGFzaEFycmF5IjogbnVsbCwgImRhc2hPZmZzZXQiOiBudWxsLCAiZmlsbCI6IHRydWUsICJmaWxsQ29sb3IiOiAiIzMxODZjYyIsICJmaWxsT3BhY2l0eSI6IDAuNSwgImZpbGxSdWxlIjogImV2ZW5vZGQiLCAibGluZUNhcCI6ICJyb3VuZCIsICJsaW5lSm9pbiI6ICJyb3VuZCIsICJvcGFjaXR5IjogMS4wLCAicmFkaXVzIjogNSwgInN0cm9rZSI6IHRydWUsICJ3ZWlnaHQiOiAzfQogICAgICAgICAgICApLmFkZFRvKG1hcF9kMDZlOWY3MTQ4Y2Q0YjlhYWQ5Zjk3ZTUyN2RlNDg2OSk7CiAgICAgICAgCiAgICAKICAgICAgICB2YXIgcG9wdXBfOWI0NjhlOThlY2RlNDJkYjhmNTljNmI4OWE4YTE1NjcgPSBMLnBvcHVwKHsibWF4V2lkdGgiOiAiMTAwJSJ9KTsKCiAgICAgICAgCiAgICAgICAgICAgIHZhciBodG1sXzFmMjcxZjRmNWU3YTQ3NGZiNDJlMTQ5Yzc3MmYzM2RlID0gJChgPGRpdiBpZD0iaHRtbF8xZjI3MWY0ZjVlN2E0NzRmYjQyZTE0OWM3NzJmMzNkZSIgc3R5bGU9IndpZHRoOiAxMDAuMCU7IGhlaWdodDogMTAwLjAlOyI+RGF2aXN2aWxsZSwgQ2VudHJhbCBUb3JvbnRvPC9kaXY+YClbMF07CiAgICAgICAgICAgIHBvcHVwXzliNDY4ZTk4ZWNkZTQyZGI4ZjU5YzZiODlhOGExNTY3LnNldENvbnRlbnQoaHRtbF8xZjI3MWY0ZjVlN2E0NzRmYjQyZTE0OWM3NzJmMzNkZSk7CiAgICAgICAgCgogICAgICAgIGNpcmNsZV9tYXJrZXJfMTQ2MWQ5YzE3MGNlNDJlZjlhMTc3Njg1MDM2ZjI5YWYuYmluZFBvcHVwKHBvcHVwXzliNDY4ZTk4ZWNkZTQyZGI4ZjU5YzZiODlhOGExNTY3KQogICAgICAgIDsKCiAgICAgICAgCiAgICAKICAgIAogICAgICAgICAgICB2YXIgY2lyY2xlX21hcmtlcl9hNGZkNTA5NDM1MDY0OTZiOWE4OWZhNzJjYjhkNTQxNiA9IEwuY2lyY2xlTWFya2VyKAogICAgICAgICAgICAgICAgWzQzLjY4OTU3NDMsIC03OS4zODMxNTk5MDAwMDAwMV0sCiAgICAgICAgICAgICAgICB7ImJ1YmJsaW5nTW91c2VFdmVudHMiOiB0cnVlLCAiY29sb3IiOiAiYmx1ZSIsICJkYXNoQXJyYXkiOiBudWxsLCAiZGFzaE9mZnNldCI6IG51bGwsICJmaWxsIjogdHJ1ZSwgImZpbGxDb2xvciI6ICIjMzE4NmNjIiwgImZpbGxPcGFjaXR5IjogMC41LCAiZmlsbFJ1bGUiOiAiZXZlbm9kZCIsICJsaW5lQ2FwIjogInJvdW5kIiwgImxpbmVKb2luIjogInJvdW5kIiwgIm9wYWNpdHkiOiAxLjAsICJyYWRpdXMiOiA1LCAic3Ryb2tlIjogdHJ1ZSwgIndlaWdodCI6IDN9CiAgICAgICAgICAgICkuYWRkVG8obWFwX2QwNmU5ZjcxNDhjZDRiOWFhZDlmOTdlNTI3ZGU0ODY5KTsKICAgICAgICAKICAgIAogICAgICAgIHZhciBwb3B1cF82YTJjMmVmNmEwNTY0ZjQyYTgzZGZjYWI4M2NmNTI2NiA9IEwucG9wdXAoeyJtYXhXaWR0aCI6ICIxMDAlIn0pOwoKICAgICAgICAKICAgICAgICAgICAgdmFyIGh0bWxfNDkzMmFhM2FmMjgxNGM0YWE4NzNmYzcxNzA0ZTY4NjMgPSAkKGA8ZGl2IGlkPSJodG1sXzQ5MzJhYTNhZjI4MTRjNGFhODczZmM3MTcwNGU2ODYzIiBzdHlsZT0id2lkdGg6IDEwMC4wJTsgaGVpZ2h0OiAxMDAuMCU7Ij5Nb29yZSBQYXJrLCBTdW1tZXJoaWxsIEVhc3QsIENlbnRyYWwgVG9yb250bzwvZGl2PmApWzBdOwogICAgICAgICAgICBwb3B1cF82YTJjMmVmNmEwNTY0ZjQyYTgzZGZjYWI4M2NmNTI2Ni5zZXRDb250ZW50KGh0bWxfNDkzMmFhM2FmMjgxNGM0YWE4NzNmYzcxNzA0ZTY4NjMpOwogICAgICAgIAoKICAgICAgICBjaXJjbGVfbWFya2VyX2E0ZmQ1MDk0MzUwNjQ5NmI5YTg5ZmE3MmNiOGQ1NDE2LmJpbmRQb3B1cChwb3B1cF82YTJjMmVmNmEwNTY0ZjQyYTgzZGZjYWI4M2NmNTI2NikKICAgICAgICA7CgogICAgICAgIAogICAgCiAgICAKICAgICAgICAgICAgdmFyIGNpcmNsZV9tYXJrZXJfY2YwOTE4OTY2ZmU3NGIxNjkxNzk2YThhYTk0YzJlMjEgPSBMLmNpcmNsZU1hcmtlcigKICAgICAgICAgICAgICAgIFs0My42ODY0MTIyOTk5OTk5OSwgLTc5LjQwMDA0OTNdLAogICAgICAgICAgICAgICAgeyJidWJibGluZ01vdXNlRXZlbnRzIjogdHJ1ZSwgImNvbG9yIjogImJsdWUiLCAiZGFzaEFycmF5IjogbnVsbCwgImRhc2hPZmZzZXQiOiBudWxsLCAiZmlsbCI6IHRydWUsICJmaWxsQ29sb3IiOiAiIzMxODZjYyIsICJmaWxsT3BhY2l0eSI6IDAuNSwgImZpbGxSdWxlIjogImV2ZW5vZGQiLCAibGluZUNhcCI6ICJyb3VuZCIsICJsaW5lSm9pbiI6ICJyb3VuZCIsICJvcGFjaXR5IjogMS4wLCAicmFkaXVzIjogNSwgInN0cm9rZSI6IHRydWUsICJ3ZWlnaHQiOiAzfQogICAgICAgICAgICApLmFkZFRvKG1hcF9kMDZlOWY3MTQ4Y2Q0YjlhYWQ5Zjk3ZTUyN2RlNDg2OSk7CiAgICAgICAgCiAgICAKICAgICAgICB2YXIgcG9wdXBfNmRkYmY2ODg1ZTkyNGI4NmI5OWI4MzFlNGQ5NzIwYTQgPSBMLnBvcHVwKHsibWF4V2lkdGgiOiAiMTAwJSJ9KTsKCiAgICAgICAgCiAgICAgICAgICAgIHZhciBodG1sXzczNDgyNjBlMzM5MDRjYTI4OWI3YjgzZjU1YjFiZDZjID0gJChgPGRpdiBpZD0iaHRtbF83MzQ4MjYwZTMzOTA0Y2EyODliN2I4M2Y1NWIxYmQ2YyIgc3R5bGU9IndpZHRoOiAxMDAuMCU7IGhlaWdodDogMTAwLjAlOyI+U3VtbWVyaGlsbCBXZXN0LCBSYXRobmVsbHksIFNvdXRoIEhpbGwsIEZvcmVzdCBIaWxsIFNFLCBEZWVyIFBhcmssIENlbnRyYWwgVG9yb250bzwvZGl2PmApWzBdOwogICAgICAgICAgICBwb3B1cF82ZGRiZjY4ODVlOTI0Yjg2Yjk5YjgzMWU0ZDk3MjBhNC5zZXRDb250ZW50KGh0bWxfNzM0ODI2MGUzMzkwNGNhMjg5YjdiODNmNTViMWJkNmMpOwogICAgICAgIAoKICAgICAgICBjaXJjbGVfbWFya2VyX2NmMDkxODk2NmZlNzRiMTY5MTc5NmE4YWE5NGMyZTIxLmJpbmRQb3B1cChwb3B1cF82ZGRiZjY4ODVlOTI0Yjg2Yjk5YjgzMWU0ZDk3MjBhNCkKICAgICAgICA7CgogICAgICAgIAogICAgCiAgICAKICAgICAgICAgICAgdmFyIGNpcmNsZV9tYXJrZXJfZTBjYmM0ODExN2I3NDk3ZTg4ZWFkZDE5ODJlZjg4NTEgPSBMLmNpcmNsZU1hcmtlcigKICAgICAgICAgICAgICAgIFs0My42Nzk1NjI2LCAtNzkuMzc3NTI5NDAwMDAwMDFdLAogICAgICAgICAgICAgICAgeyJidWJibGluZ01vdXNlRXZlbnRzIjogdHJ1ZSwgImNvbG9yIjogImJsdWUiLCAiZGFzaEFycmF5IjogbnVsbCwgImRhc2hPZmZzZXQiOiBudWxsLCAiZmlsbCI6IHRydWUsICJmaWxsQ29sb3IiOiAiIzMxODZjYyIsICJmaWxsT3BhY2l0eSI6IDAuNSwgImZpbGxSdWxlIjogImV2ZW5vZGQiLCAibGluZUNhcCI6ICJyb3VuZCIsICJsaW5lSm9pbiI6ICJyb3VuZCIsICJvcGFjaXR5IjogMS4wLCAicmFkaXVzIjogNSwgInN0cm9rZSI6IHRydWUsICJ3ZWlnaHQiOiAzfQogICAgICAgICAgICApLmFkZFRvKG1hcF9kMDZlOWY3MTQ4Y2Q0YjlhYWQ5Zjk3ZTUyN2RlNDg2OSk7CiAgICAgICAgCiAgICAKICAgICAgICB2YXIgcG9wdXBfNzViNmFmZWQyMmViNGI2MTg5YWJhNWE4ODY2MzYzMTMgPSBMLnBvcHVwKHsibWF4V2lkdGgiOiAiMTAwJSJ9KTsKCiAgICAgICAgCiAgICAgICAgICAgIHZhciBodG1sX2I4YWQ3M2Q5ZDJkMDQ1NzlhYzBlZTI2NjY4NGE2ZTA1ID0gJChgPGRpdiBpZD0iaHRtbF9iOGFkNzNkOWQyZDA0NTc5YWMwZWUyNjY2ODRhNmUwNSIgc3R5bGU9IndpZHRoOiAxMDAuMCU7IGhlaWdodDogMTAwLjAlOyI+Um9zZWRhbGUsIERvd250b3duIFRvcm9udG88L2Rpdj5gKVswXTsKICAgICAgICAgICAgcG9wdXBfNzViNmFmZWQyMmViNGI2MTg5YWJhNWE4ODY2MzYzMTMuc2V0Q29udGVudChodG1sX2I4YWQ3M2Q5ZDJkMDQ1NzlhYzBlZTI2NjY4NGE2ZTA1KTsKICAgICAgICAKCiAgICAgICAgY2lyY2xlX21hcmtlcl9lMGNiYzQ4MTE3Yjc0OTdlODhlYWRkMTk4MmVmODg1MS5iaW5kUG9wdXAocG9wdXBfNzViNmFmZWQyMmViNGI2MTg5YWJhNWE4ODY2MzYzMTMpCiAgICAgICAgOwoKICAgICAgICAKICAgIAogICAgCiAgICAgICAgICAgIHZhciBjaXJjbGVfbWFya2VyXzEwY2JlOTEzZTc5ODQ1YWM4NGFjN2MyMmQ0MDY3NWFjID0gTC5jaXJjbGVNYXJrZXIoCiAgICAgICAgICAgICAgICBbNDMuNjY3OTY3LCAtNzkuMzY3Njc1M10sCiAgICAgICAgICAgICAgICB7ImJ1YmJsaW5nTW91c2VFdmVudHMiOiB0cnVlLCAiY29sb3IiOiAiYmx1ZSIsICJkYXNoQXJyYXkiOiBudWxsLCAiZGFzaE9mZnNldCI6IG51bGwsICJmaWxsIjogdHJ1ZSwgImZpbGxDb2xvciI6ICIjMzE4NmNjIiwgImZpbGxPcGFjaXR5IjogMC41LCAiZmlsbFJ1bGUiOiAiZXZlbm9kZCIsICJsaW5lQ2FwIjogInJvdW5kIiwgImxpbmVKb2luIjogInJvdW5kIiwgIm9wYWNpdHkiOiAxLjAsICJyYWRpdXMiOiA1LCAic3Ryb2tlIjogdHJ1ZSwgIndlaWdodCI6IDN9CiAgICAgICAgICAgICkuYWRkVG8obWFwX2QwNmU5ZjcxNDhjZDRiOWFhZDlmOTdlNTI3ZGU0ODY5KTsKICAgICAgICAKICAgIAogICAgICAgIHZhciBwb3B1cF8yNWEyZGRiZmUyZDA0ODdjODdlYmU4YjVkMGFkZGMyOSA9IEwucG9wdXAoeyJtYXhXaWR0aCI6ICIxMDAlIn0pOwoKICAgICAgICAKICAgICAgICAgICAgdmFyIGh0bWxfZWNhODljNzdkZDJlNGQyYmEyYjdkZGZmYTA0OWJmYmYgPSAkKGA8ZGl2IGlkPSJodG1sX2VjYTg5Yzc3ZGQyZTRkMmJhMmI3ZGRmZmEwNDliZmJmIiBzdHlsZT0id2lkdGg6IDEwMC4wJTsgaGVpZ2h0OiAxMDAuMCU7Ij5TdC4gSmFtZXMgVG93biwgQ2FiYmFnZXRvd24sIERvd250b3duIFRvcm9udG88L2Rpdj5gKVswXTsKICAgICAgICAgICAgcG9wdXBfMjVhMmRkYmZlMmQwNDg3Yzg3ZWJlOGI1ZDBhZGRjMjkuc2V0Q29udGVudChodG1sX2VjYTg5Yzc3ZGQyZTRkMmJhMmI3ZGRmZmEwNDliZmJmKTsKICAgICAgICAKCiAgICAgICAgY2lyY2xlX21hcmtlcl8xMGNiZTkxM2U3OTg0NWFjODRhYzdjMjJkNDA2NzVhYy5iaW5kUG9wdXAocG9wdXBfMjVhMmRkYmZlMmQwNDg3Yzg3ZWJlOGI1ZDBhZGRjMjkpCiAgICAgICAgOwoKICAgICAgICAKICAgIAogICAgCiAgICAgICAgICAgIHZhciBjaXJjbGVfbWFya2VyXzYwN2M0YWNmM2RiYjQwZGM5MWVlYzZhNzBiYzhjMjc0ID0gTC5jaXJjbGVNYXJrZXIoCiAgICAgICAgICAgICAgICBbNDMuNjY1ODU5OSwgLTc5LjM4MzE1OTkwMDAwMDAxXSwKICAgICAgICAgICAgICAgIHsiYnViYmxpbmdNb3VzZUV2ZW50cyI6IHRydWUsICJjb2xvciI6ICJibHVlIiwgImRhc2hBcnJheSI6IG51bGwsICJkYXNoT2Zmc2V0IjogbnVsbCwgImZpbGwiOiB0cnVlLCAiZmlsbENvbG9yIjogIiMzMTg2Y2MiLCAiZmlsbE9wYWNpdHkiOiAwLjUsICJmaWxsUnVsZSI6ICJldmVub2RkIiwgImxpbmVDYXAiOiAicm91bmQiLCAibGluZUpvaW4iOiAicm91bmQiLCAib3BhY2l0eSI6IDEuMCwgInJhZGl1cyI6IDUsICJzdHJva2UiOiB0cnVlLCAid2VpZ2h0IjogM30KICAgICAgICAgICAgKS5hZGRUbyhtYXBfZDA2ZTlmNzE0OGNkNGI5YWFkOWY5N2U1MjdkZTQ4NjkpOwogICAgICAgIAogICAgCiAgICAgICAgdmFyIHBvcHVwX2ZkNGY4OTRiZTE1ZDQ0YzI4ZjY1YWYxZWUxMjhiYjEwID0gTC5wb3B1cCh7Im1heFdpZHRoIjogIjEwMCUifSk7CgogICAgICAgIAogICAgICAgICAgICB2YXIgaHRtbF9iOTMwYTZlZjA3YWU0Y2EzYTU1YWI2ODYzOGJhMTJjMSA9ICQoYDxkaXYgaWQ9Imh0bWxfYjkzMGE2ZWYwN2FlNGNhM2E1NWFiNjg2MzhiYTEyYzEiIHN0eWxlPSJ3aWR0aDogMTAwLjAlOyBoZWlnaHQ6IDEwMC4wJTsiPkNodXJjaCBhbmQgV2VsbGVzbGV5LCBEb3dudG93biBUb3JvbnRvPC9kaXY+YClbMF07CiAgICAgICAgICAgIHBvcHVwX2ZkNGY4OTRiZTE1ZDQ0YzI4ZjY1YWYxZWUxMjhiYjEwLnNldENvbnRlbnQoaHRtbF9iOTMwYTZlZjA3YWU0Y2EzYTU1YWI2ODYzOGJhMTJjMSk7CiAgICAgICAgCgogICAgICAgIGNpcmNsZV9tYXJrZXJfNjA3YzRhY2YzZGJiNDBkYzkxZWVjNmE3MGJjOGMyNzQuYmluZFBvcHVwKHBvcHVwX2ZkNGY4OTRiZTE1ZDQ0YzI4ZjY1YWYxZWUxMjhiYjEwKQogICAgICAgIDsKCiAgICAgICAgCiAgICAKICAgIAogICAgICAgICAgICB2YXIgY2lyY2xlX21hcmtlcl8wYTRjNjNlNGJiZDY0MDkyODk4YzQ1Y2UzNWZmZTQ3ZiA9IEwuY2lyY2xlTWFya2VyKAogICAgICAgICAgICAgICAgWzQzLjY1NDI1OTksIC03OS4zNjA2MzU5XSwKICAgICAgICAgICAgICAgIHsiYnViYmxpbmdNb3VzZUV2ZW50cyI6IHRydWUsICJjb2xvciI6ICJibHVlIiwgImRhc2hBcnJheSI6IG51bGwsICJkYXNoT2Zmc2V0IjogbnVsbCwgImZpbGwiOiB0cnVlLCAiZmlsbENvbG9yIjogIiMzMTg2Y2MiLCAiZmlsbE9wYWNpdHkiOiAwLjUsICJmaWxsUnVsZSI6ICJldmVub2RkIiwgImxpbmVDYXAiOiAicm91bmQiLCAibGluZUpvaW4iOiAicm91bmQiLCAib3BhY2l0eSI6IDEuMCwgInJhZGl1cyI6IDUsICJzdHJva2UiOiB0cnVlLCAid2VpZ2h0IjogM30KICAgICAgICAgICAgKS5hZGRUbyhtYXBfZDA2ZTlmNzE0OGNkNGI5YWFkOWY5N2U1MjdkZTQ4NjkpOwogICAgICAgIAogICAgCiAgICAgICAgdmFyIHBvcHVwXzZlZDc4MjMzZWQyMTQwM2VhODY4MzlmOThlNTU2ZjMwID0gTC5wb3B1cCh7Im1heFdpZHRoIjogIjEwMCUifSk7CgogICAgICAgIAogICAgICAgICAgICB2YXIgaHRtbF8zMDllYWI1NTM5NGY0NjMzYmMxOTYyNDQ3Y2JjYWMzYSA9ICQoYDxkaXYgaWQ9Imh0bWxfMzA5ZWFiNTUzOTRmNDYzM2JjMTk2MjQ0N2NiY2FjM2EiIHN0eWxlPSJ3aWR0aDogMTAwLjAlOyBoZWlnaHQ6IDEwMC4wJTsiPlJlZ2VudCBQYXJrLCBIYXJib3VyZnJvbnQsIERvd250b3duIFRvcm9udG88L2Rpdj5gKVswXTsKICAgICAgICAgICAgcG9wdXBfNmVkNzgyMzNlZDIxNDAzZWE4NjgzOWY5OGU1NTZmMzAuc2V0Q29udGVudChodG1sXzMwOWVhYjU1Mzk0ZjQ2MzNiYzE5NjI0NDdjYmNhYzNhKTsKICAgICAgICAKCiAgICAgICAgY2lyY2xlX21hcmtlcl8wYTRjNjNlNGJiZDY0MDkyODk4YzQ1Y2UzNWZmZTQ3Zi5iaW5kUG9wdXAocG9wdXBfNmVkNzgyMzNlZDIxNDAzZWE4NjgzOWY5OGU1NTZmMzApCiAgICAgICAgOwoKICAgICAgICAKICAgIAogICAgCiAgICAgICAgICAgIHZhciBjaXJjbGVfbWFya2VyXzE5NTUxNTdmNTQ0YTRjNDQ5YTNhOTY5NjI4YmU0MDVlID0gTC5jaXJjbGVNYXJrZXIoCiAgICAgICAgICAgICAgICBbNDMuNjU3MTYxOCwgLTc5LjM3ODkzNzA5OTk5OTk5XSwKICAgICAgICAgICAgICAgIHsiYnViYmxpbmdNb3VzZUV2ZW50cyI6IHRydWUsICJjb2xvciI6ICJibHVlIiwgImRhc2hBcnJheSI6IG51bGwsICJkYXNoT2Zmc2V0IjogbnVsbCwgImZpbGwiOiB0cnVlLCAiZmlsbENvbG9yIjogIiMzMTg2Y2MiLCAiZmlsbE9wYWNpdHkiOiAwLjUsICJmaWxsUnVsZSI6ICJldmVub2RkIiwgImxpbmVDYXAiOiAicm91bmQiLCAibGluZUpvaW4iOiAicm91bmQiLCAib3BhY2l0eSI6IDEuMCwgInJhZGl1cyI6IDUsICJzdHJva2UiOiB0cnVlLCAid2VpZ2h0IjogM30KICAgICAgICAgICAgKS5hZGRUbyhtYXBfZDA2ZTlmNzE0OGNkNGI5YWFkOWY5N2U1MjdkZTQ4NjkpOwogICAgICAgIAogICAgCiAgICAgICAgdmFyIHBvcHVwX2U1ZDczMWViNmQxZDQ5ZjJiYTYyZGIxYTdjZGJiYjY3ID0gTC5wb3B1cCh7Im1heFdpZHRoIjogIjEwMCUifSk7CgogICAgICAgIAogICAgICAgICAgICB2YXIgaHRtbF8zODBiMzY2ZDkzNjE0MzFjYjBiODMyNTlmZmM2MTg5ZCA9ICQoYDxkaXYgaWQ9Imh0bWxfMzgwYjM2NmQ5MzYxNDMxY2IwYjgzMjU5ZmZjNjE4OWQiIHN0eWxlPSJ3aWR0aDogMTAwLjAlOyBoZWlnaHQ6IDEwMC4wJTsiPkdhcmRlbiBEaXN0cmljdCwgUnllcnNvbiwgRG93bnRvd24gVG9yb250bzwvZGl2PmApWzBdOwogICAgICAgICAgICBwb3B1cF9lNWQ3MzFlYjZkMWQ0OWYyYmE2MmRiMWE3Y2RiYmI2Ny5zZXRDb250ZW50KGh0bWxfMzgwYjM2NmQ5MzYxNDMxY2IwYjgzMjU5ZmZjNjE4OWQpOwogICAgICAgIAoKICAgICAgICBjaXJjbGVfbWFya2VyXzE5NTUxNTdmNTQ0YTRjNDQ5YTNhOTY5NjI4YmU0MDVlLmJpbmRQb3B1cChwb3B1cF9lNWQ3MzFlYjZkMWQ0OWYyYmE2MmRiMWE3Y2RiYmI2NykKICAgICAgICA7CgogICAgICAgIAogICAgCiAgICAKICAgICAgICAgICAgdmFyIGNpcmNsZV9tYXJrZXJfNGFjMDEyODlmZjljNDc2YTgyNTIxMzdmZDA0YjYzYzkgPSBMLmNpcmNsZU1hcmtlcigKICAgICAgICAgICAgICAgIFs0My42NTE0OTM5LCAtNzkuMzc1NDE3OV0sCiAgICAgICAgICAgICAgICB7ImJ1YmJsaW5nTW91c2VFdmVudHMiOiB0cnVlLCAiY29sb3IiOiAiYmx1ZSIsICJkYXNoQXJyYXkiOiBudWxsLCAiZGFzaE9mZnNldCI6IG51bGwsICJmaWxsIjogdHJ1ZSwgImZpbGxDb2xvciI6ICIjMzE4NmNjIiwgImZpbGxPcGFjaXR5IjogMC41LCAiZmlsbFJ1bGUiOiAiZXZlbm9kZCIsICJsaW5lQ2FwIjogInJvdW5kIiwgImxpbmVKb2luIjogInJvdW5kIiwgIm9wYWNpdHkiOiAxLjAsICJyYWRpdXMiOiA1LCAic3Ryb2tlIjogdHJ1ZSwgIndlaWdodCI6IDN9CiAgICAgICAgICAgICkuYWRkVG8obWFwX2QwNmU5ZjcxNDhjZDRiOWFhZDlmOTdlNTI3ZGU0ODY5KTsKICAgICAgICAKICAgIAogICAgICAgIHZhciBwb3B1cF83MzhiNWFiZDMyN2E0NDQ4YTY0MDY2M2JiODM0YWMzYyA9IEwucG9wdXAoeyJtYXhXaWR0aCI6ICIxMDAlIn0pOwoKICAgICAgICAKICAgICAgICAgICAgdmFyIGh0bWxfYjAwYjJkYzAyNmU1NGMzNGE3ODAyYWZkYzI0M2UyZTAgPSAkKGA8ZGl2IGlkPSJodG1sX2IwMGIyZGMwMjZlNTRjMzRhNzgwMmFmZGMyNDNlMmUwIiBzdHlsZT0id2lkdGg6IDEwMC4wJTsgaGVpZ2h0OiAxMDAuMCU7Ij5TdC4gSmFtZXMgVG93biwgRG93bnRvd24gVG9yb250bzwvZGl2PmApWzBdOwogICAgICAgICAgICBwb3B1cF83MzhiNWFiZDMyN2E0NDQ4YTY0MDY2M2JiODM0YWMzYy5zZXRDb250ZW50KGh0bWxfYjAwYjJkYzAyNmU1NGMzNGE3ODAyYWZkYzI0M2UyZTApOwogICAgICAgIAoKICAgICAgICBjaXJjbGVfbWFya2VyXzRhYzAxMjg5ZmY5YzQ3NmE4MjUyMTM3ZmQwNGI2M2M5LmJpbmRQb3B1cChwb3B1cF83MzhiNWFiZDMyN2E0NDQ4YTY0MDY2M2JiODM0YWMzYykKICAgICAgICA7CgogICAgICAgIAogICAgCiAgICAKICAgICAgICAgICAgdmFyIGNpcmNsZV9tYXJrZXJfY2M1MWFkNWI5ZDgzNGY1YTljZjc0YjViMjgwOTU2NTQgPSBMLmNpcmNsZU1hcmtlcigKICAgICAgICAgICAgICAgIFs0My42NDQ3NzA3OTk5OTk5OTYsIC03OS4zNzMzMDY0XSwKICAgICAgICAgICAgICAgIHsiYnViYmxpbmdNb3VzZUV2ZW50cyI6IHRydWUsICJjb2xvciI6ICJibHVlIiwgImRhc2hBcnJheSI6IG51bGwsICJkYXNoT2Zmc2V0IjogbnVsbCwgImZpbGwiOiB0cnVlLCAiZmlsbENvbG9yIjogIiMzMTg2Y2MiLCAiZmlsbE9wYWNpdHkiOiAwLjUsICJmaWxsUnVsZSI6ICJldmVub2RkIiwgImxpbmVDYXAiOiAicm91bmQiLCAibGluZUpvaW4iOiAicm91bmQiLCAib3BhY2l0eSI6IDEuMCwgInJhZGl1cyI6IDUsICJzdHJva2UiOiB0cnVlLCAid2VpZ2h0IjogM30KICAgICAgICAgICAgKS5hZGRUbyhtYXBfZDA2ZTlmNzE0OGNkNGI5YWFkOWY5N2U1MjdkZTQ4NjkpOwogICAgICAgIAogICAgCiAgICAgICAgdmFyIHBvcHVwXzgxN2I1YjNlMWJkYjQzNDU4MzA1OTY3MTc4ZmE0MjJlID0gTC5wb3B1cCh7Im1heFdpZHRoIjogIjEwMCUifSk7CgogICAgICAgIAogICAgICAgICAgICB2YXIgaHRtbF9jNGE3NDE4Mjg3MTk0ZmM5OTA2MzNkODdlNzc0NGU3ZCA9ICQoYDxkaXYgaWQ9Imh0bWxfYzRhNzQxODI4NzE5NGZjOTkwNjMzZDg3ZTc3NDRlN2QiIHN0eWxlPSJ3aWR0aDogMTAwLjAlOyBoZWlnaHQ6IDEwMC4wJTsiPkJlcmN6eSBQYXJrLCBEb3dudG93biBUb3JvbnRvPC9kaXY+YClbMF07CiAgICAgICAgICAgIHBvcHVwXzgxN2I1YjNlMWJkYjQzNDU4MzA1OTY3MTc4ZmE0MjJlLnNldENvbnRlbnQoaHRtbF9jNGE3NDE4Mjg3MTk0ZmM5OTA2MzNkODdlNzc0NGU3ZCk7CiAgICAgICAgCgogICAgICAgIGNpcmNsZV9tYXJrZXJfY2M1MWFkNWI5ZDgzNGY1YTljZjc0YjViMjgwOTU2NTQuYmluZFBvcHVwKHBvcHVwXzgxN2I1YjNlMWJkYjQzNDU4MzA1OTY3MTc4ZmE0MjJlKQogICAgICAgIDsKCiAgICAgICAgCiAgICAKICAgIAogICAgICAgICAgICB2YXIgY2lyY2xlX21hcmtlcl9iNzU5MjM2NWE1OTg0NGM2ODQ0YWUzODI2MWZlODdlNCA9IEwuY2lyY2xlTWFya2VyKAogICAgICAgICAgICAgICAgWzQzLjY1Nzk1MjQsIC03OS4zODczODI2XSwKICAgICAgICAgICAgICAgIHsiYnViYmxpbmdNb3VzZUV2ZW50cyI6IHRydWUsICJjb2xvciI6ICJibHVlIiwgImRhc2hBcnJheSI6IG51bGwsICJkYXNoT2Zmc2V0IjogbnVsbCwgImZpbGwiOiB0cnVlLCAiZmlsbENvbG9yIjogIiMzMTg2Y2MiLCAiZmlsbE9wYWNpdHkiOiAwLjUsICJmaWxsUnVsZSI6ICJldmVub2RkIiwgImxpbmVDYXAiOiAicm91bmQiLCAibGluZUpvaW4iOiAicm91bmQiLCAib3BhY2l0eSI6IDEuMCwgInJhZGl1cyI6IDUsICJzdHJva2UiOiB0cnVlLCAid2VpZ2h0IjogM30KICAgICAgICAgICAgKS5hZGRUbyhtYXBfZDA2ZTlmNzE0OGNkNGI5YWFkOWY5N2U1MjdkZTQ4NjkpOwogICAgICAgIAogICAgCiAgICAgICAgdmFyIHBvcHVwXzRiOTY0YmRlNDc3NDQxZGFhODNhZGE5MDlhOTBjOGM0ID0gTC5wb3B1cCh7Im1heFdpZHRoIjogIjEwMCUifSk7CgogICAgICAgIAogICAgICAgICAgICB2YXIgaHRtbF9kOWI2ZTBjM2M2OTY0ODhkYWY2OGNiNWFmZmQ5NjFmYSA9ICQoYDxkaXYgaWQ9Imh0bWxfZDliNmUwYzNjNjk2NDg4ZGFmNjhjYjVhZmZkOTYxZmEiIHN0eWxlPSJ3aWR0aDogMTAwLjAlOyBoZWlnaHQ6IDEwMC4wJTsiPkNlbnRyYWwgQmF5IFN0cmVldCwgRG93bnRvd24gVG9yb250bzwvZGl2PmApWzBdOwogICAgICAgICAgICBwb3B1cF80Yjk2NGJkZTQ3NzQ0MWRhYTgzYWRhOTA5YTkwYzhjNC5zZXRDb250ZW50KGh0bWxfZDliNmUwYzNjNjk2NDg4ZGFmNjhjYjVhZmZkOTYxZmEpOwogICAgICAgIAoKICAgICAgICBjaXJjbGVfbWFya2VyX2I3NTkyMzY1YTU5ODQ0YzY4NDRhZTM4MjYxZmU4N2U0LmJpbmRQb3B1cChwb3B1cF80Yjk2NGJkZTQ3NzQ0MWRhYTgzYWRhOTA5YTkwYzhjNCkKICAgICAgICA7CgogICAgICAgIAogICAgCiAgICAKICAgICAgICAgICAgdmFyIGNpcmNsZV9tYXJrZXJfYzkwMDg2NjI1Mjg4NGJhMzliZTAwMmZkMDljMzkyZmMgPSBMLmNpcmNsZU1hcmtlcigKICAgICAgICAgICAgICAgIFs0My42NTA1NzEyMDAwMDAwMSwgLTc5LjM4NDU2NzVdLAogICAgICAgICAgICAgICAgeyJidWJibGluZ01vdXNlRXZlbnRzIjogdHJ1ZSwgImNvbG9yIjogImJsdWUiLCAiZGFzaEFycmF5IjogbnVsbCwgImRhc2hPZmZzZXQiOiBudWxsLCAiZmlsbCI6IHRydWUsICJmaWxsQ29sb3IiOiAiIzMxODZjYyIsICJmaWxsT3BhY2l0eSI6IDAuNSwgImZpbGxSdWxlIjogImV2ZW5vZGQiLCAibGluZUNhcCI6ICJyb3VuZCIsICJsaW5lSm9pbiI6ICJyb3VuZCIsICJvcGFjaXR5IjogMS4wLCAicmFkaXVzIjogNSwgInN0cm9rZSI6IHRydWUsICJ3ZWlnaHQiOiAzfQogICAgICAgICAgICApLmFkZFRvKG1hcF9kMDZlOWY3MTQ4Y2Q0YjlhYWQ5Zjk3ZTUyN2RlNDg2OSk7CiAgICAgICAgCiAgICAKICAgICAgICB2YXIgcG9wdXBfYTUxODdiNTFiMTFlNDIwOGExZjY2YmM5OTNiOTcyOWQgPSBMLnBvcHVwKHsibWF4V2lkdGgiOiAiMTAwJSJ9KTsKCiAgICAgICAgCiAgICAgICAgICAgIHZhciBodG1sXzEzZjZmZTBlZDYxYjRiODVhOGMxZTZiNWFiZDk0OGE3ID0gJChgPGRpdiBpZD0iaHRtbF8xM2Y2ZmUwZWQ2MWI0Yjg1YThjMWU2YjVhYmQ5NDhhNyIgc3R5bGU9IndpZHRoOiAxMDAuMCU7IGhlaWdodDogMTAwLjAlOyI+UmljaG1vbmQsIEFkZWxhaWRlLCBLaW5nLCBEb3dudG93biBUb3JvbnRvPC9kaXY+YClbMF07CiAgICAgICAgICAgIHBvcHVwX2E1MTg3YjUxYjExZTQyMDhhMWY2NmJjOTkzYjk3MjlkLnNldENvbnRlbnQoaHRtbF8xM2Y2ZmUwZWQ2MWI0Yjg1YThjMWU2YjVhYmQ5NDhhNyk7CiAgICAgICAgCgogICAgICAgIGNpcmNsZV9tYXJrZXJfYzkwMDg2NjI1Mjg4NGJhMzliZTAwMmZkMDljMzkyZmMuYmluZFBvcHVwKHBvcHVwX2E1MTg3YjUxYjExZTQyMDhhMWY2NmJjOTkzYjk3MjlkKQogICAgICAgIDsKCiAgICAgICAgCiAgICAKICAgIAogICAgICAgICAgICB2YXIgY2lyY2xlX21hcmtlcl85MWFhMzk1ZDYyZDM0MWNhOTAyMjVjYjVkNjAzYjIwNyA9IEwuY2lyY2xlTWFya2VyKAogICAgICAgICAgICAgICAgWzQzLjY0MDgxNTcsIC03OS4zODE3NTIyOTk5OTk5OV0sCiAgICAgICAgICAgICAgICB7ImJ1YmJsaW5nTW91c2VFdmVudHMiOiB0cnVlLCAiY29sb3IiOiAiYmx1ZSIsICJkYXNoQXJyYXkiOiBudWxsLCAiZGFzaE9mZnNldCI6IG51bGwsICJmaWxsIjogdHJ1ZSwgImZpbGxDb2xvciI6ICIjMzE4NmNjIiwgImZpbGxPcGFjaXR5IjogMC41LCAiZmlsbFJ1bGUiOiAiZXZlbm9kZCIsICJsaW5lQ2FwIjogInJvdW5kIiwgImxpbmVKb2luIjogInJvdW5kIiwgIm9wYWNpdHkiOiAxLjAsICJyYWRpdXMiOiA1LCAic3Ryb2tlIjogdHJ1ZSwgIndlaWdodCI6IDN9CiAgICAgICAgICAgICkuYWRkVG8obWFwX2QwNmU5ZjcxNDhjZDRiOWFhZDlmOTdlNTI3ZGU0ODY5KTsKICAgICAgICAKICAgIAogICAgICAgIHZhciBwb3B1cF81NTM2ZGQ0Y2UwYTM0OGMxYWUyOWYxZWVjODc0Y2Q2NiA9IEwucG9wdXAoeyJtYXhXaWR0aCI6ICIxMDAlIn0pOwoKICAgICAgICAKICAgICAgICAgICAgdmFyIGh0bWxfNDRkMmRhNjc3ZDY3NGNkOGI2NDgyZTIyNGI1NTg3MjggPSAkKGA8ZGl2IGlkPSJodG1sXzQ0ZDJkYTY3N2Q2NzRjZDhiNjQ4MmUyMjRiNTU4NzI4IiBzdHlsZT0id2lkdGg6IDEwMC4wJTsgaGVpZ2h0OiAxMDAuMCU7Ij5IYXJib3VyZnJvbnQgRWFzdCwgVW5pb24gU3RhdGlvbiwgVG9yb250byBJc2xhbmRzLCBEb3dudG93biBUb3JvbnRvPC9kaXY+YClbMF07CiAgICAgICAgICAgIHBvcHVwXzU1MzZkZDRjZTBhMzQ4YzFhZTI5ZjFlZWM4NzRjZDY2LnNldENvbnRlbnQoaHRtbF80NGQyZGE2NzdkNjc0Y2Q4YjY0ODJlMjI0YjU1ODcyOCk7CiAgICAgICAgCgogICAgICAgIGNpcmNsZV9tYXJrZXJfOTFhYTM5NWQ2MmQzNDFjYTkwMjI1Y2I1ZDYwM2IyMDcuYmluZFBvcHVwKHBvcHVwXzU1MzZkZDRjZTBhMzQ4YzFhZTI5ZjFlZWM4NzRjZDY2KQogICAgICAgIDsKCiAgICAgICAgCiAgICAKICAgIAogICAgICAgICAgICB2YXIgY2lyY2xlX21hcmtlcl81YjhiZTUxMjEwMzM0NjRiYTgzODI5ZGVlNTI0OWI5ZCA9IEwuY2lyY2xlTWFya2VyKAogICAgICAgICAgICAgICAgWzQzLjY0NzE3NjgsIC03OS4zODE1NzY0MDAwMDAwMV0sCiAgICAgICAgICAgICAgICB7ImJ1YmJsaW5nTW91c2VFdmVudHMiOiB0cnVlLCAiY29sb3IiOiAiYmx1ZSIsICJkYXNoQXJyYXkiOiBudWxsLCAiZGFzaE9mZnNldCI6IG51bGwsICJmaWxsIjogdHJ1ZSwgImZpbGxDb2xvciI6ICIjMzE4NmNjIiwgImZpbGxPcGFjaXR5IjogMC41LCAiZmlsbFJ1bGUiOiAiZXZlbm9kZCIsICJsaW5lQ2FwIjogInJvdW5kIiwgImxpbmVKb2luIjogInJvdW5kIiwgIm9wYWNpdHkiOiAxLjAsICJyYWRpdXMiOiA1LCAic3Ryb2tlIjogdHJ1ZSwgIndlaWdodCI6IDN9CiAgICAgICAgICAgICkuYWRkVG8obWFwX2QwNmU5ZjcxNDhjZDRiOWFhZDlmOTdlNTI3ZGU0ODY5KTsKICAgICAgICAKICAgIAogICAgICAgIHZhciBwb3B1cF9hYzAzNjc4NjU3YzI0NGExOTJlNjExYTg1ODE4OWZhNCA9IEwucG9wdXAoeyJtYXhXaWR0aCI6ICIxMDAlIn0pOwoKICAgICAgICAKICAgICAgICAgICAgdmFyIGh0bWxfMDZkNDUwOWRiYjMyNDcwOWI5ZjkwMjlhNGFkYzZkMzEgPSAkKGA8ZGl2IGlkPSJodG1sXzA2ZDQ1MDlkYmIzMjQ3MDliOWY5MDI5YTRhZGM2ZDMxIiBzdHlsZT0id2lkdGg6IDEwMC4wJTsgaGVpZ2h0OiAxMDAuMCU7Ij5Ub3JvbnRvIERvbWluaW9uIENlbnRyZSwgRGVzaWduIEV4Y2hhbmdlLCBEb3dudG93biBUb3JvbnRvPC9kaXY+YClbMF07CiAgICAgICAgICAgIHBvcHVwX2FjMDM2Nzg2NTdjMjQ0YTE5MmU2MTFhODU4MTg5ZmE0LnNldENvbnRlbnQoaHRtbF8wNmQ0NTA5ZGJiMzI0NzA5YjlmOTAyOWE0YWRjNmQzMSk7CiAgICAgICAgCgogICAgICAgIGNpcmNsZV9tYXJrZXJfNWI4YmU1MTIxMDMzNDY0YmE4MzgyOWRlZTUyNDliOWQuYmluZFBvcHVwKHBvcHVwX2FjMDM2Nzg2NTdjMjQ0YTE5MmU2MTFhODU4MTg5ZmE0KQogICAgICAgIDsKCiAgICAgICAgCiAgICAKICAgIAogICAgICAgICAgICB2YXIgY2lyY2xlX21hcmtlcl8yMDZkZDkyYTUxMmM0ZDRkOTc2MTUwZGNkN2NlOTYyOSA9IEwuY2lyY2xlTWFya2VyKAogICAgICAgICAgICAgICAgWzQzLjY0ODE5ODUsIC03OS4zNzk4MTY5MDAwMDAwMV0sCiAgICAgICAgICAgICAgICB7ImJ1YmJsaW5nTW91c2VFdmVudHMiOiB0cnVlLCAiY29sb3IiOiAiYmx1ZSIsICJkYXNoQXJyYXkiOiBudWxsLCAiZGFzaE9mZnNldCI6IG51bGwsICJmaWxsIjogdHJ1ZSwgImZpbGxDb2xvciI6ICIjMzE4NmNjIiwgImZpbGxPcGFjaXR5IjogMC41LCAiZmlsbFJ1bGUiOiAiZXZlbm9kZCIsICJsaW5lQ2FwIjogInJvdW5kIiwgImxpbmVKb2luIjogInJvdW5kIiwgIm9wYWNpdHkiOiAxLjAsICJyYWRpdXMiOiA1LCAic3Ryb2tlIjogdHJ1ZSwgIndlaWdodCI6IDN9CiAgICAgICAgICAgICkuYWRkVG8obWFwX2QwNmU5ZjcxNDhjZDRiOWFhZDlmOTdlNTI3ZGU0ODY5KTsKICAgICAgICAKICAgIAogICAgICAgIHZhciBwb3B1cF8yZTE2YjkxYmYxMDI0ZTY2OThmM2YxOWY2NGU2NTY4MSA9IEwucG9wdXAoeyJtYXhXaWR0aCI6ICIxMDAlIn0pOwoKICAgICAgICAKICAgICAgICAgICAgdmFyIGh0bWxfNTMwYmY0NDA3ODVlNDhhY2EzYWNlMzgwY2VkNGY2MTggPSAkKGA8ZGl2IGlkPSJodG1sXzUzMGJmNDQwNzg1ZTQ4YWNhM2FjZTM4MGNlZDRmNjE4IiBzdHlsZT0id2lkdGg6IDEwMC4wJTsgaGVpZ2h0OiAxMDAuMCU7Ij5Db21tZXJjZSBDb3VydCwgVmljdG9yaWEgSG90ZWwsIERvd250b3duIFRvcm9udG88L2Rpdj5gKVswXTsKICAgICAgICAgICAgcG9wdXBfMmUxNmI5MWJmMTAyNGU2Njk4ZjNmMTlmNjRlNjU2ODEuc2V0Q29udGVudChodG1sXzUzMGJmNDQwNzg1ZTQ4YWNhM2FjZTM4MGNlZDRmNjE4KTsKICAgICAgICAKCiAgICAgICAgY2lyY2xlX21hcmtlcl8yMDZkZDkyYTUxMmM0ZDRkOTc2MTUwZGNkN2NlOTYyOS5iaW5kUG9wdXAocG9wdXBfMmUxNmI5MWJmMTAyNGU2Njk4ZjNmMTlmNjRlNjU2ODEpCiAgICAgICAgOwoKICAgICAgICAKICAgIAogICAgCiAgICAgICAgICAgIHZhciBjaXJjbGVfbWFya2VyXzFhZTJkNDdmNjAzMjQ4MGM5NjA1NjdjZTY1NGM1Y2M5ID0gTC5jaXJjbGVNYXJrZXIoCiAgICAgICAgICAgICAgICBbNDMuNzExNjk0OCwgLTc5LjQxNjkzNTU5OTk5OTk5XSwKICAgICAgICAgICAgICAgIHsiYnViYmxpbmdNb3VzZUV2ZW50cyI6IHRydWUsICJjb2xvciI6ICJibHVlIiwgImRhc2hBcnJheSI6IG51bGwsICJkYXNoT2Zmc2V0IjogbnVsbCwgImZpbGwiOiB0cnVlLCAiZmlsbENvbG9yIjogIiMzMTg2Y2MiLCAiZmlsbE9wYWNpdHkiOiAwLjUsICJmaWxsUnVsZSI6ICJldmVub2RkIiwgImxpbmVDYXAiOiAicm91bmQiLCAibGluZUpvaW4iOiAicm91bmQiLCAib3BhY2l0eSI6IDEuMCwgInJhZGl1cyI6IDUsICJzdHJva2UiOiB0cnVlLCAid2VpZ2h0IjogM30KICAgICAgICAgICAgKS5hZGRUbyhtYXBfZDA2ZTlmNzE0OGNkNGI5YWFkOWY5N2U1MjdkZTQ4NjkpOwogICAgICAgIAogICAgCiAgICAgICAgdmFyIHBvcHVwXzQxZTA4MDBmNmIyNDQ0NzA4NGQ5ZTlhM2NhMTBlODgzID0gTC5wb3B1cCh7Im1heFdpZHRoIjogIjEwMCUifSk7CgogICAgICAgIAogICAgICAgICAgICB2YXIgaHRtbF82NzBiN2YyZTAwYjM0ZGE2YmFlZGY4YjE3Yzg5ZDE1OSA9ICQoYDxkaXYgaWQ9Imh0bWxfNjcwYjdmMmUwMGIzNGRhNmJhZWRmOGIxN2M4OWQxNTkiIHN0eWxlPSJ3aWR0aDogMTAwLjAlOyBoZWlnaHQ6IDEwMC4wJTsiPlJvc2VsYXduLCBDZW50cmFsIFRvcm9udG88L2Rpdj5gKVswXTsKICAgICAgICAgICAgcG9wdXBfNDFlMDgwMGY2YjI0NDQ3MDg0ZDllOWEzY2ExMGU4ODMuc2V0Q29udGVudChodG1sXzY3MGI3ZjJlMDBiMzRkYTZiYWVkZjhiMTdjODlkMTU5KTsKICAgICAgICAKCiAgICAgICAgY2lyY2xlX21hcmtlcl8xYWUyZDQ3ZjYwMzI0ODBjOTYwNTY3Y2U2NTRjNWNjOS5iaW5kUG9wdXAocG9wdXBfNDFlMDgwMGY2YjI0NDQ3MDg0ZDllOWEzY2ExMGU4ODMpCiAgICAgICAgOwoKICAgICAgICAKICAgIAogICAgCiAgICAgICAgICAgIHZhciBjaXJjbGVfbWFya2VyX2QyMzhlNWU0ZjM0NDQ3ZjVhNGNiMzE5Njk3NzE2OGE5ID0gTC5jaXJjbGVNYXJrZXIoCiAgICAgICAgICAgICAgICBbNDMuNjk2OTQ3NiwgLTc5LjQxMTMwNzIwMDAwMDAxXSwKICAgICAgICAgICAgICAgIHsiYnViYmxpbmdNb3VzZUV2ZW50cyI6IHRydWUsICJjb2xvciI6ICJibHVlIiwgImRhc2hBcnJheSI6IG51bGwsICJkYXNoT2Zmc2V0IjogbnVsbCwgImZpbGwiOiB0cnVlLCAiZmlsbENvbG9yIjogIiMzMTg2Y2MiLCAiZmlsbE9wYWNpdHkiOiAwLjUsICJmaWxsUnVsZSI6ICJldmVub2RkIiwgImxpbmVDYXAiOiAicm91bmQiLCAibGluZUpvaW4iOiAicm91bmQiLCAib3BhY2l0eSI6IDEuMCwgInJhZGl1cyI6IDUsICJzdHJva2UiOiB0cnVlLCAid2VpZ2h0IjogM30KICAgICAgICAgICAgKS5hZGRUbyhtYXBfZDA2ZTlmNzE0OGNkNGI5YWFkOWY5N2U1MjdkZTQ4NjkpOwogICAgICAgIAogICAgCiAgICAgICAgdmFyIHBvcHVwXzYzNmQ1OGFmNTlmNjQ0NGRhNGRmNzMxM2VmNDBkMDFiID0gTC5wb3B1cCh7Im1heFdpZHRoIjogIjEwMCUifSk7CgogICAgICAgIAogICAgICAgICAgICB2YXIgaHRtbF8zNDU2NDY2ZDA2ZmM0MDBhYmZkNGFhNGViZjVjNzRhNSA9ICQoYDxkaXYgaWQ9Imh0bWxfMzQ1NjQ2NmQwNmZjNDAwYWJmZDRhYTRlYmY1Yzc0YTUiIHN0eWxlPSJ3aWR0aDogMTAwLjAlOyBoZWlnaHQ6IDEwMC4wJTsiPkZvcmVzdCBIaWxsIE5vcnRoICZhbXA7IFdlc3QsIEZvcmVzdCBIaWxsIFJvYWQgUGFyaywgQ2VudHJhbCBUb3JvbnRvPC9kaXY+YClbMF07CiAgICAgICAgICAgIHBvcHVwXzYzNmQ1OGFmNTlmNjQ0NGRhNGRmNzMxM2VmNDBkMDFiLnNldENvbnRlbnQoaHRtbF8zNDU2NDY2ZDA2ZmM0MDBhYmZkNGFhNGViZjVjNzRhNSk7CiAgICAgICAgCgogICAgICAgIGNpcmNsZV9tYXJrZXJfZDIzOGU1ZTRmMzQ0NDdmNWE0Y2IzMTk2OTc3MTY4YTkuYmluZFBvcHVwKHBvcHVwXzYzNmQ1OGFmNTlmNjQ0NGRhNGRmNzMxM2VmNDBkMDFiKQogICAgICAgIDsKCiAgICAgICAgCiAgICAKICAgIAogICAgICAgICAgICB2YXIgY2lyY2xlX21hcmtlcl83YjM5ZDA2MmFkNmI0ZjA3ODI3MmEzMDg0ZDk3NDg3MSA9IEwuY2lyY2xlTWFya2VyKAogICAgICAgICAgICAgICAgWzQzLjY3MjcwOTcsIC03OS40MDU2Nzg0MDAwMDAwMV0sCiAgICAgICAgICAgICAgICB7ImJ1YmJsaW5nTW91c2VFdmVudHMiOiB0cnVlLCAiY29sb3IiOiAiYmx1ZSIsICJkYXNoQXJyYXkiOiBudWxsLCAiZGFzaE9mZnNldCI6IG51bGwsICJmaWxsIjogdHJ1ZSwgImZpbGxDb2xvciI6ICIjMzE4NmNjIiwgImZpbGxPcGFjaXR5IjogMC41LCAiZmlsbFJ1bGUiOiAiZXZlbm9kZCIsICJsaW5lQ2FwIjogInJvdW5kIiwgImxpbmVKb2luIjogInJvdW5kIiwgIm9wYWNpdHkiOiAxLjAsICJyYWRpdXMiOiA1LCAic3Ryb2tlIjogdHJ1ZSwgIndlaWdodCI6IDN9CiAgICAgICAgICAgICkuYWRkVG8obWFwX2QwNmU5ZjcxNDhjZDRiOWFhZDlmOTdlNTI3ZGU0ODY5KTsKICAgICAgICAKICAgIAogICAgICAgIHZhciBwb3B1cF9jZGRmNjRkYjM3ZGM0ZjZkYjEzNjYxYjIxOTQ1M2Y5OCA9IEwucG9wdXAoeyJtYXhXaWR0aCI6ICIxMDAlIn0pOwoKICAgICAgICAKICAgICAgICAgICAgdmFyIGh0bWxfOTZjNTFjZDI2OWI3NGUzZTkzOTk2ZDg4MWE3MjhkNmQgPSAkKGA8ZGl2IGlkPSJodG1sXzk2YzUxY2QyNjliNzRlM2U5Mzk5NmQ4ODFhNzI4ZDZkIiBzdHlsZT0id2lkdGg6IDEwMC4wJTsgaGVpZ2h0OiAxMDAuMCU7Ij5UaGUgQW5uZXgsIE5vcnRoIE1pZHRvd24sIFlvcmt2aWxsZSwgQ2VudHJhbCBUb3JvbnRvPC9kaXY+YClbMF07CiAgICAgICAgICAgIHBvcHVwX2NkZGY2NGRiMzdkYzRmNmRiMTM2NjFiMjE5NDUzZjk4LnNldENvbnRlbnQoaHRtbF85NmM1MWNkMjY5Yjc0ZTNlOTM5OTZkODgxYTcyOGQ2ZCk7CiAgICAgICAgCgogICAgICAgIGNpcmNsZV9tYXJrZXJfN2IzOWQwNjJhZDZiNGYwNzgyNzJhMzA4NGQ5NzQ4NzEuYmluZFBvcHVwKHBvcHVwX2NkZGY2NGRiMzdkYzRmNmRiMTM2NjFiMjE5NDUzZjk4KQogICAgICAgIDsKCiAgICAgICAgCiAgICAKICAgIAogICAgICAgICAgICB2YXIgY2lyY2xlX21hcmtlcl8wY2JhNjllMzgwNTk0ZGE3YWZmNjE1ODFmNjRhNGVlMCA9IEwuY2lyY2xlTWFya2VyKAogICAgICAgICAgICAgICAgWzQzLjY2MjY5NTYsIC03OS40MDAwNDkzXSwKICAgICAgICAgICAgICAgIHsiYnViYmxpbmdNb3VzZUV2ZW50cyI6IHRydWUsICJjb2xvciI6ICJibHVlIiwgImRhc2hBcnJheSI6IG51bGwsICJkYXNoT2Zmc2V0IjogbnVsbCwgImZpbGwiOiB0cnVlLCAiZmlsbENvbG9yIjogIiMzMTg2Y2MiLCAiZmlsbE9wYWNpdHkiOiAwLjUsICJmaWxsUnVsZSI6ICJldmVub2RkIiwgImxpbmVDYXAiOiAicm91bmQiLCAibGluZUpvaW4iOiAicm91bmQiLCAib3BhY2l0eSI6IDEuMCwgInJhZGl1cyI6IDUsICJzdHJva2UiOiB0cnVlLCAid2VpZ2h0IjogM30KICAgICAgICAgICAgKS5hZGRUbyhtYXBfZDA2ZTlmNzE0OGNkNGI5YWFkOWY5N2U1MjdkZTQ4NjkpOwogICAgICAgIAogICAgCiAgICAgICAgdmFyIHBvcHVwX2E0OGI0ZTgzODBhNjRmNmFiMWVkODFhNWU1ZDFhM2MyID0gTC5wb3B1cCh7Im1heFdpZHRoIjogIjEwMCUifSk7CgogICAgICAgIAogICAgICAgICAgICB2YXIgaHRtbF9jMTVmMDBmMGY1Y2U0NzhjYjA2ZWZiYTQyMWZjYTIxZCA9ICQoYDxkaXYgaWQ9Imh0bWxfYzE1ZjAwZjBmNWNlNDc4Y2IwNmVmYmE0MjFmY2EyMWQiIHN0eWxlPSJ3aWR0aDogMTAwLjAlOyBoZWlnaHQ6IDEwMC4wJTsiPlVuaXZlcnNpdHkgb2YgVG9yb250bywgSGFyYm9yZCwgRG93bnRvd24gVG9yb250bzwvZGl2PmApWzBdOwogICAgICAgICAgICBwb3B1cF9hNDhiNGU4MzgwYTY0ZjZhYjFlZDgxYTVlNWQxYTNjMi5zZXRDb250ZW50KGh0bWxfYzE1ZjAwZjBmNWNlNDc4Y2IwNmVmYmE0MjFmY2EyMWQpOwogICAgICAgIAoKICAgICAgICBjaXJjbGVfbWFya2VyXzBjYmE2OWUzODA1OTRkYTdhZmY2MTU4MWY2NGE0ZWUwLmJpbmRQb3B1cChwb3B1cF9hNDhiNGU4MzgwYTY0ZjZhYjFlZDgxYTVlNWQxYTNjMikKICAgICAgICA7CgogICAgICAgIAogICAgCiAgICAKICAgICAgICAgICAgdmFyIGNpcmNsZV9tYXJrZXJfZDlmZjg4ZjllZjkxNDEyYWI3OGJmNmM5YTA0ZmMzOWEgPSBMLmNpcmNsZU1hcmtlcigKICAgICAgICAgICAgICAgIFs0My42NTMyMDU3LCAtNzkuNDAwMDQ5M10sCiAgICAgICAgICAgICAgICB7ImJ1YmJsaW5nTW91c2VFdmVudHMiOiB0cnVlLCAiY29sb3IiOiAiYmx1ZSIsICJkYXNoQXJyYXkiOiBudWxsLCAiZGFzaE9mZnNldCI6IG51bGwsICJmaWxsIjogdHJ1ZSwgImZpbGxDb2xvciI6ICIjMzE4NmNjIiwgImZpbGxPcGFjaXR5IjogMC41LCAiZmlsbFJ1bGUiOiAiZXZlbm9kZCIsICJsaW5lQ2FwIjogInJvdW5kIiwgImxpbmVKb2luIjogInJvdW5kIiwgIm9wYWNpdHkiOiAxLjAsICJyYWRpdXMiOiA1LCAic3Ryb2tlIjogdHJ1ZSwgIndlaWdodCI6IDN9CiAgICAgICAgICAgICkuYWRkVG8obWFwX2QwNmU5ZjcxNDhjZDRiOWFhZDlmOTdlNTI3ZGU0ODY5KTsKICAgICAgICAKICAgIAogICAgICAgIHZhciBwb3B1cF8yNjhmMWI4NzI4ZDg0MWZhYTk4ZmRjYWFhODkyN2JhZCA9IEwucG9wdXAoeyJtYXhXaWR0aCI6ICIxMDAlIn0pOwoKICAgICAgICAKICAgICAgICAgICAgdmFyIGh0bWxfMWU0YTdhYjIzZjJiNDQzNGE4ZGM1NWNhZmI4YzAzOWEgPSAkKGA8ZGl2IGlkPSJodG1sXzFlNGE3YWIyM2YyYjQ0MzRhOGRjNTVjYWZiOGMwMzlhIiBzdHlsZT0id2lkdGg6IDEwMC4wJTsgaGVpZ2h0OiAxMDAuMCU7Ij5LZW5zaW5ndG9uIE1hcmtldCwgQ2hpbmF0b3duLCBHcmFuZ2UgUGFyaywgRG93bnRvd24gVG9yb250bzwvZGl2PmApWzBdOwogICAgICAgICAgICBwb3B1cF8yNjhmMWI4NzI4ZDg0MWZhYTk4ZmRjYWFhODkyN2JhZC5zZXRDb250ZW50KGh0bWxfMWU0YTdhYjIzZjJiNDQzNGE4ZGM1NWNhZmI4YzAzOWEpOwogICAgICAgIAoKICAgICAgICBjaXJjbGVfbWFya2VyX2Q5ZmY4OGY5ZWY5MTQxMmFiNzhiZjZjOWEwNGZjMzlhLmJpbmRQb3B1cChwb3B1cF8yNjhmMWI4NzI4ZDg0MWZhYTk4ZmRjYWFhODkyN2JhZCkKICAgICAgICA7CgogICAgICAgIAogICAgCiAgICAKICAgICAgICAgICAgdmFyIGNpcmNsZV9tYXJrZXJfZGIxM2QxNTYxMjVkNDRkNTlkN2JiMjUxMTM2ODM3Y2IgPSBMLmNpcmNsZU1hcmtlcigKICAgICAgICAgICAgICAgIFs0My42Mjg5NDY3LCAtNzkuMzk0NDE5OV0sCiAgICAgICAgICAgICAgICB7ImJ1YmJsaW5nTW91c2VFdmVudHMiOiB0cnVlLCAiY29sb3IiOiAiYmx1ZSIsICJkYXNoQXJyYXkiOiBudWxsLCAiZGFzaE9mZnNldCI6IG51bGwsICJmaWxsIjogdHJ1ZSwgImZpbGxDb2xvciI6ICIjMzE4NmNjIiwgImZpbGxPcGFjaXR5IjogMC41LCAiZmlsbFJ1bGUiOiAiZXZlbm9kZCIsICJsaW5lQ2FwIjogInJvdW5kIiwgImxpbmVKb2luIjogInJvdW5kIiwgIm9wYWNpdHkiOiAxLjAsICJyYWRpdXMiOiA1LCAic3Ryb2tlIjogdHJ1ZSwgIndlaWdodCI6IDN9CiAgICAgICAgICAgICkuYWRkVG8obWFwX2QwNmU5ZjcxNDhjZDRiOWFhZDlmOTdlNTI3ZGU0ODY5KTsKICAgICAgICAKICAgIAogICAgICAgIHZhciBwb3B1cF9iMTAxZjczYzhmNmI0YTU2ODc2YTU2NTg5NmZkZDFlMyA9IEwucG9wdXAoeyJtYXhXaWR0aCI6ICIxMDAlIn0pOwoKICAgICAgICAKICAgICAgICAgICAgdmFyIGh0bWxfZDFhNzk0NjgyNDRjNDJlOGI5ZTQwMzBjOGRjMDAxNjYgPSAkKGA8ZGl2IGlkPSJodG1sX2QxYTc5NDY4MjQ0YzQyZThiOWU0MDMwYzhkYzAwMTY2IiBzdHlsZT0id2lkdGg6IDEwMC4wJTsgaGVpZ2h0OiAxMDAuMCU7Ij5DTiBUb3dlciwgS2luZyBhbmQgU3BhZGluYSwgUmFpbHdheSBMYW5kcywgSGFyYm91cmZyb250IFdlc3QsIEJhdGh1cnN0IFF1YXksIFNvdXRoIE5pYWdhcmEsIElzbGFuZCBhaXJwb3J0LCBEb3dudG93biBUb3JvbnRvPC9kaXY+YClbMF07CiAgICAgICAgICAgIHBvcHVwX2IxMDFmNzNjOGY2YjRhNTY4NzZhNTY1ODk2ZmRkMWUzLnNldENvbnRlbnQoaHRtbF9kMWE3OTQ2ODI0NGM0MmU4YjllNDAzMGM4ZGMwMDE2Nik7CiAgICAgICAgCgogICAgICAgIGNpcmNsZV9tYXJrZXJfZGIxM2QxNTYxMjVkNDRkNTlkN2JiMjUxMTM2ODM3Y2IuYmluZFBvcHVwKHBvcHVwX2IxMDFmNzNjOGY2YjRhNTY4NzZhNTY1ODk2ZmRkMWUzKQogICAgICAgIDsKCiAgICAgICAgCiAgICAKICAgIAogICAgICAgICAgICB2YXIgY2lyY2xlX21hcmtlcl9kMTk3NjMxYjQxN2Q0MDIzYjJlMTFjMjk5YzQ5Yzk2NCA9IEwuY2lyY2xlTWFya2VyKAogICAgICAgICAgICAgICAgWzQzLjY0NjQzNTIsIC03OS4zNzQ4NDU5OTk5OTk5OV0sCiAgICAgICAgICAgICAgICB7ImJ1YmJsaW5nTW91c2VFdmVudHMiOiB0cnVlLCAiY29sb3IiOiAiYmx1ZSIsICJkYXNoQXJyYXkiOiBudWxsLCAiZGFzaE9mZnNldCI6IG51bGwsICJmaWxsIjogdHJ1ZSwgImZpbGxDb2xvciI6ICIjMzE4NmNjIiwgImZpbGxPcGFjaXR5IjogMC41LCAiZmlsbFJ1bGUiOiAiZXZlbm9kZCIsICJsaW5lQ2FwIjogInJvdW5kIiwgImxpbmVKb2luIjogInJvdW5kIiwgIm9wYWNpdHkiOiAxLjAsICJyYWRpdXMiOiA1LCAic3Ryb2tlIjogdHJ1ZSwgIndlaWdodCI6IDN9CiAgICAgICAgICAgICkuYWRkVG8obWFwX2QwNmU5ZjcxNDhjZDRiOWFhZDlmOTdlNTI3ZGU0ODY5KTsKICAgICAgICAKICAgIAogICAgICAgIHZhciBwb3B1cF9jNGE3ZTM3NTBhMzA0OGNlYThhOWVkNzkzYTJiZDBiNiA9IEwucG9wdXAoeyJtYXhXaWR0aCI6ICIxMDAlIn0pOwoKICAgICAgICAKICAgICAgICAgICAgdmFyIGh0bWxfYmQ1ZmI4MTA3NzI1NDZkMWIxMzA1NGUwNmViMDUwMGUgPSAkKGA8ZGl2IGlkPSJodG1sX2JkNWZiODEwNzcyNTQ2ZDFiMTMwNTRlMDZlYjA1MDBlIiBzdHlsZT0id2lkdGg6IDEwMC4wJTsgaGVpZ2h0OiAxMDAuMCU7Ij5TdG4gQSBQTyBCb3hlcywgRG93bnRvd24gVG9yb250bzwvZGl2PmApWzBdOwogICAgICAgICAgICBwb3B1cF9jNGE3ZTM3NTBhMzA0OGNlYThhOWVkNzkzYTJiZDBiNi5zZXRDb250ZW50KGh0bWxfYmQ1ZmI4MTA3NzI1NDZkMWIxMzA1NGUwNmViMDUwMGUpOwogICAgICAgIAoKICAgICAgICBjaXJjbGVfbWFya2VyX2QxOTc2MzFiNDE3ZDQwMjNiMmUxMWMyOTljNDljOTY0LmJpbmRQb3B1cChwb3B1cF9jNGE3ZTM3NTBhMzA0OGNlYThhOWVkNzkzYTJiZDBiNikKICAgICAgICA7CgogICAgICAgIAogICAgCiAgICAKICAgICAgICAgICAgdmFyIGNpcmNsZV9tYXJrZXJfYzBhZWIwYjg4NzVmNDFjMDg4YmM3N2QyMzM1YTg5YTIgPSBMLmNpcmNsZU1hcmtlcigKICAgICAgICAgICAgICAgIFs0My42NDg0MjkyLCAtNzkuMzgyMjgwMl0sCiAgICAgICAgICAgICAgICB7ImJ1YmJsaW5nTW91c2VFdmVudHMiOiB0cnVlLCAiY29sb3IiOiAiYmx1ZSIsICJkYXNoQXJyYXkiOiBudWxsLCAiZGFzaE9mZnNldCI6IG51bGwsICJmaWxsIjogdHJ1ZSwgImZpbGxDb2xvciI6ICIjMzE4NmNjIiwgImZpbGxPcGFjaXR5IjogMC41LCAiZmlsbFJ1bGUiOiAiZXZlbm9kZCIsICJsaW5lQ2FwIjogInJvdW5kIiwgImxpbmVKb2luIjogInJvdW5kIiwgIm9wYWNpdHkiOiAxLjAsICJyYWRpdXMiOiA1LCAic3Ryb2tlIjogdHJ1ZSwgIndlaWdodCI6IDN9CiAgICAgICAgICAgICkuYWRkVG8obWFwX2QwNmU5ZjcxNDhjZDRiOWFhZDlmOTdlNTI3ZGU0ODY5KTsKICAgICAgICAKICAgIAogICAgICAgIHZhciBwb3B1cF82YzlhZDkxMTVhYzk0ZmFmOGQ1OTA0ZTJiYmYyOWE2MyA9IEwucG9wdXAoeyJtYXhXaWR0aCI6ICIxMDAlIn0pOwoKICAgICAgICAKICAgICAgICAgICAgdmFyIGh0bWxfMmE3OWRkZjhhZWRkNDk3NmIyNmUyMjBhNDNjNjYxMmEgPSAkKGA8ZGl2IGlkPSJodG1sXzJhNzlkZGY4YWVkZDQ5NzZiMjZlMjIwYTQzYzY2MTJhIiBzdHlsZT0id2lkdGg6IDEwMC4wJTsgaGVpZ2h0OiAxMDAuMCU7Ij5GaXJzdCBDYW5hZGlhbiBQbGFjZSwgVW5kZXJncm91bmQgY2l0eSwgRG93bnRvd24gVG9yb250bzwvZGl2PmApWzBdOwogICAgICAgICAgICBwb3B1cF82YzlhZDkxMTVhYzk0ZmFmOGQ1OTA0ZTJiYmYyOWE2My5zZXRDb250ZW50KGh0bWxfMmE3OWRkZjhhZWRkNDk3NmIyNmUyMjBhNDNjNjYxMmEpOwogICAgICAgIAoKICAgICAgICBjaXJjbGVfbWFya2VyX2MwYWViMGI4ODc1ZjQxYzA4OGJjNzdkMjMzNWE4OWEyLmJpbmRQb3B1cChwb3B1cF82YzlhZDkxMTVhYzk0ZmFmOGQ1OTA0ZTJiYmYyOWE2MykKICAgICAgICA7CgogICAgICAgIAogICAgCiAgICAKICAgICAgICAgICAgdmFyIGNpcmNsZV9tYXJrZXJfMTlkMzBjMjg1MTM1NDc1OWIwNjQyNTAxY2EwNTUxMzYgPSBMLmNpcmNsZU1hcmtlcigKICAgICAgICAgICAgICAgIFs0My42Njk1NDIsIC03OS40MjI1NjM3XSwKICAgICAgICAgICAgICAgIHsiYnViYmxpbmdNb3VzZUV2ZW50cyI6IHRydWUsICJjb2xvciI6ICJibHVlIiwgImRhc2hBcnJheSI6IG51bGwsICJkYXNoT2Zmc2V0IjogbnVsbCwgImZpbGwiOiB0cnVlLCAiZmlsbENvbG9yIjogIiMzMTg2Y2MiLCAiZmlsbE9wYWNpdHkiOiAwLjUsICJmaWxsUnVsZSI6ICJldmVub2RkIiwgImxpbmVDYXAiOiAicm91bmQiLCAibGluZUpvaW4iOiAicm91bmQiLCAib3BhY2l0eSI6IDEuMCwgInJhZGl1cyI6IDUsICJzdHJva2UiOiB0cnVlLCAid2VpZ2h0IjogM30KICAgICAgICAgICAgKS5hZGRUbyhtYXBfZDA2ZTlmNzE0OGNkNGI5YWFkOWY5N2U1MjdkZTQ4NjkpOwogICAgICAgIAogICAgCiAgICAgICAgdmFyIHBvcHVwXzY5ZTQyYjM4NjI1MzRkMmZiMGNjYTlkMTQ3YzlmMzc3ID0gTC5wb3B1cCh7Im1heFdpZHRoIjogIjEwMCUifSk7CgogICAgICAgIAogICAgICAgICAgICB2YXIgaHRtbF8yMDM5NDNhY2FjMTQ0ODUwYjFhNTA5YmI2YTY3NGVkMSA9ICQoYDxkaXYgaWQ9Imh0bWxfMjAzOTQzYWNhYzE0NDg1MGIxYTUwOWJiNmE2NzRlZDEiIHN0eWxlPSJ3aWR0aDogMTAwLjAlOyBoZWlnaHQ6IDEwMC4wJTsiPkNocmlzdGllLCBEb3dudG93biBUb3JvbnRvPC9kaXY+YClbMF07CiAgICAgICAgICAgIHBvcHVwXzY5ZTQyYjM4NjI1MzRkMmZiMGNjYTlkMTQ3YzlmMzc3LnNldENvbnRlbnQoaHRtbF8yMDM5NDNhY2FjMTQ0ODUwYjFhNTA5YmI2YTY3NGVkMSk7CiAgICAgICAgCgogICAgICAgIGNpcmNsZV9tYXJrZXJfMTlkMzBjMjg1MTM1NDc1OWIwNjQyNTAxY2EwNTUxMzYuYmluZFBvcHVwKHBvcHVwXzY5ZTQyYjM4NjI1MzRkMmZiMGNjYTlkMTQ3YzlmMzc3KQogICAgICAgIDsKCiAgICAgICAgCiAgICAKICAgIAogICAgICAgICAgICB2YXIgY2lyY2xlX21hcmtlcl9iYjIzM2YwMDlmYmY0YWExYTM0NzIyNmUzMTY2ZGRhZiA9IEwuY2lyY2xlTWFya2VyKAogICAgICAgICAgICAgICAgWzQzLjY2OTAwNTEwMDAwMDAxLCAtNzkuNDQyMjU5M10sCiAgICAgICAgICAgICAgICB7ImJ1YmJsaW5nTW91c2VFdmVudHMiOiB0cnVlLCAiY29sb3IiOiAiYmx1ZSIsICJkYXNoQXJyYXkiOiBudWxsLCAiZGFzaE9mZnNldCI6IG51bGwsICJmaWxsIjogdHJ1ZSwgImZpbGxDb2xvciI6ICIjMzE4NmNjIiwgImZpbGxPcGFjaXR5IjogMC41LCAiZmlsbFJ1bGUiOiAiZXZlbm9kZCIsICJsaW5lQ2FwIjogInJvdW5kIiwgImxpbmVKb2luIjogInJvdW5kIiwgIm9wYWNpdHkiOiAxLjAsICJyYWRpdXMiOiA1LCAic3Ryb2tlIjogdHJ1ZSwgIndlaWdodCI6IDN9CiAgICAgICAgICAgICkuYWRkVG8obWFwX2QwNmU5ZjcxNDhjZDRiOWFhZDlmOTdlNTI3ZGU0ODY5KTsKICAgICAgICAKICAgIAogICAgICAgIHZhciBwb3B1cF8wYmJkMmY1ODFiM2Y0YjVmOTE3ZjNkOTE1MzQwNDk3MiA9IEwucG9wdXAoeyJtYXhXaWR0aCI6ICIxMDAlIn0pOwoKICAgICAgICAKICAgICAgICAgICAgdmFyIGh0bWxfMWU2OTAyNGI2NzRjNDY0MDk5MTgwYTg3YjE2NzY2NGIgPSAkKGA8ZGl2IGlkPSJodG1sXzFlNjkwMjRiNjc0YzQ2NDA5OTE4MGE4N2IxNjc2NjRiIiBzdHlsZT0id2lkdGg6IDEwMC4wJTsgaGVpZ2h0OiAxMDAuMCU7Ij5EdWZmZXJpbiwgRG92ZXJjb3VydCBWaWxsYWdlLCBXZXN0IFRvcm9udG88L2Rpdj5gKVswXTsKICAgICAgICAgICAgcG9wdXBfMGJiZDJmNTgxYjNmNGI1ZjkxN2YzZDkxNTM0MDQ5NzIuc2V0Q29udGVudChodG1sXzFlNjkwMjRiNjc0YzQ2NDA5OTE4MGE4N2IxNjc2NjRiKTsKICAgICAgICAKCiAgICAgICAgY2lyY2xlX21hcmtlcl9iYjIzM2YwMDlmYmY0YWExYTM0NzIyNmUzMTY2ZGRhZi5iaW5kUG9wdXAocG9wdXBfMGJiZDJmNTgxYjNmNGI1ZjkxN2YzZDkxNTM0MDQ5NzIpCiAgICAgICAgOwoKICAgICAgICAKICAgIAogICAgCiAgICAgICAgICAgIHZhciBjaXJjbGVfbWFya2VyX2NiZjNiOGRkODI5ZDQyMTNhYTZiYWMzYjhhNTM1YjI5ID0gTC5jaXJjbGVNYXJrZXIoCiAgICAgICAgICAgICAgICBbNDMuNjQ3OTI2NzAwMDAwMDA2LCAtNzkuNDE5NzQ5N10sCiAgICAgICAgICAgICAgICB7ImJ1YmJsaW5nTW91c2VFdmVudHMiOiB0cnVlLCAiY29sb3IiOiAiYmx1ZSIsICJkYXNoQXJyYXkiOiBudWxsLCAiZGFzaE9mZnNldCI6IG51bGwsICJmaWxsIjogdHJ1ZSwgImZpbGxDb2xvciI6ICIjMzE4NmNjIiwgImZpbGxPcGFjaXR5IjogMC41LCAiZmlsbFJ1bGUiOiAiZXZlbm9kZCIsICJsaW5lQ2FwIjogInJvdW5kIiwgImxpbmVKb2luIjogInJvdW5kIiwgIm9wYWNpdHkiOiAxLjAsICJyYWRpdXMiOiA1LCAic3Ryb2tlIjogdHJ1ZSwgIndlaWdodCI6IDN9CiAgICAgICAgICAgICkuYWRkVG8obWFwX2QwNmU5ZjcxNDhjZDRiOWFhZDlmOTdlNTI3ZGU0ODY5KTsKICAgICAgICAKICAgIAogICAgICAgIHZhciBwb3B1cF82ODY0M2YwNTU5NTY0YmM5YTI5ZGIyMzJmOGNmNDg1MCA9IEwucG9wdXAoeyJtYXhXaWR0aCI6ICIxMDAlIn0pOwoKICAgICAgICAKICAgICAgICAgICAgdmFyIGh0bWxfMmQxNzUzNWE1YTZlNGU2MzgxZjZiZWVhZWM0OTJiN2MgPSAkKGA8ZGl2IGlkPSJodG1sXzJkMTc1MzVhNWE2ZTRlNjM4MWY2YmVlYWVjNDkyYjdjIiBzdHlsZT0id2lkdGg6IDEwMC4wJTsgaGVpZ2h0OiAxMDAuMCU7Ij5MaXR0bGUgUG9ydHVnYWwsIFRyaW5pdHksIFdlc3QgVG9yb250bzwvZGl2PmApWzBdOwogICAgICAgICAgICBwb3B1cF82ODY0M2YwNTU5NTY0YmM5YTI5ZGIyMzJmOGNmNDg1MC5zZXRDb250ZW50KGh0bWxfMmQxNzUzNWE1YTZlNGU2MzgxZjZiZWVhZWM0OTJiN2MpOwogICAgICAgIAoKICAgICAgICBjaXJjbGVfbWFya2VyX2NiZjNiOGRkODI5ZDQyMTNhYTZiYWMzYjhhNTM1YjI5LmJpbmRQb3B1cChwb3B1cF82ODY0M2YwNTU5NTY0YmM5YTI5ZGIyMzJmOGNmNDg1MCkKICAgICAgICA7CgogICAgICAgIAogICAgCiAgICAKICAgICAgICAgICAgdmFyIGNpcmNsZV9tYXJrZXJfYjIwNzc2ZTYzZTU0NDA4MWJjOTI0ZmE4M2E0NzZjNDYgPSBMLmNpcmNsZU1hcmtlcigKICAgICAgICAgICAgICAgIFs0My42MzY4NDcyLCAtNzkuNDI4MTkxNDAwMDAwMDJdLAogICAgICAgICAgICAgICAgeyJidWJibGluZ01vdXNlRXZlbnRzIjogdHJ1ZSwgImNvbG9yIjogImJsdWUiLCAiZGFzaEFycmF5IjogbnVsbCwgImRhc2hPZmZzZXQiOiBudWxsLCAiZmlsbCI6IHRydWUsICJmaWxsQ29sb3IiOiAiIzMxODZjYyIsICJmaWxsT3BhY2l0eSI6IDAuNSwgImZpbGxSdWxlIjogImV2ZW5vZGQiLCAibGluZUNhcCI6ICJyb3VuZCIsICJsaW5lSm9pbiI6ICJyb3VuZCIsICJvcGFjaXR5IjogMS4wLCAicmFkaXVzIjogNSwgInN0cm9rZSI6IHRydWUsICJ3ZWlnaHQiOiAzfQogICAgICAgICAgICApLmFkZFRvKG1hcF9kMDZlOWY3MTQ4Y2Q0YjlhYWQ5Zjk3ZTUyN2RlNDg2OSk7CiAgICAgICAgCiAgICAKICAgICAgICB2YXIgcG9wdXBfOWExNmY4YzQyMWQ0NGFmY2I1YTMxOTU0Mjk0NGNjNmUgPSBMLnBvcHVwKHsibWF4V2lkdGgiOiAiMTAwJSJ9KTsKCiAgICAgICAgCiAgICAgICAgICAgIHZhciBodG1sX2VhZmEzNGM2OTRhYzQ0MTM5M2EwMTcxMGRhZDNiNWY3ID0gJChgPGRpdiBpZD0iaHRtbF9lYWZhMzRjNjk0YWM0NDEzOTNhMDE3MTBkYWQzYjVmNyIgc3R5bGU9IndpZHRoOiAxMDAuMCU7IGhlaWdodDogMTAwLjAlOyI+QnJvY2t0b24sIFBhcmtkYWxlIFZpbGxhZ2UsIEV4aGliaXRpb24gUGxhY2UsIFdlc3QgVG9yb250bzwvZGl2PmApWzBdOwogICAgICAgICAgICBwb3B1cF85YTE2ZjhjNDIxZDQ0YWZjYjVhMzE5NTQyOTQ0Y2M2ZS5zZXRDb250ZW50KGh0bWxfZWFmYTM0YzY5NGFjNDQxMzkzYTAxNzEwZGFkM2I1ZjcpOwogICAgICAgIAoKICAgICAgICBjaXJjbGVfbWFya2VyX2IyMDc3NmU2M2U1NDQwODFiYzkyNGZhODNhNDc2YzQ2LmJpbmRQb3B1cChwb3B1cF85YTE2ZjhjNDIxZDQ0YWZjYjVhMzE5NTQyOTQ0Y2M2ZSkKICAgICAgICA7CgogICAgICAgIAogICAgCiAgICAKICAgICAgICAgICAgdmFyIGNpcmNsZV9tYXJrZXJfZWQ4NGViODdjMGFmNDk0OGFmMzM5MDllYjNiNmQ1YmUgPSBMLmNpcmNsZU1hcmtlcigKICAgICAgICAgICAgICAgIFs0My42NjE2MDgzLCAtNzkuNDY0NzYzMjk5OTk5OTldLAogICAgICAgICAgICAgICAgeyJidWJibGluZ01vdXNlRXZlbnRzIjogdHJ1ZSwgImNvbG9yIjogImJsdWUiLCAiZGFzaEFycmF5IjogbnVsbCwgImRhc2hPZmZzZXQiOiBudWxsLCAiZmlsbCI6IHRydWUsICJmaWxsQ29sb3IiOiAiIzMxODZjYyIsICJmaWxsT3BhY2l0eSI6IDAuNSwgImZpbGxSdWxlIjogImV2ZW5vZGQiLCAibGluZUNhcCI6ICJyb3VuZCIsICJsaW5lSm9pbiI6ICJyb3VuZCIsICJvcGFjaXR5IjogMS4wLCAicmFkaXVzIjogNSwgInN0cm9rZSI6IHRydWUsICJ3ZWlnaHQiOiAzfQogICAgICAgICAgICApLmFkZFRvKG1hcF9kMDZlOWY3MTQ4Y2Q0YjlhYWQ5Zjk3ZTUyN2RlNDg2OSk7CiAgICAgICAgCiAgICAKICAgICAgICB2YXIgcG9wdXBfZDQzNjQzMmY2Y2EzNDFkODhjY2IyNjM1NzBlODk4NjkgPSBMLnBvcHVwKHsibWF4V2lkdGgiOiAiMTAwJSJ9KTsKCiAgICAgICAgCiAgICAgICAgICAgIHZhciBodG1sXzAzZTAyYmYzZWU0MzQ0NTdhNWU0NDk2YWRhZDdkNWJjID0gJChgPGRpdiBpZD0iaHRtbF8wM2UwMmJmM2VlNDM0NDU3YTVlNDQ5NmFkYWQ3ZDViYyIgc3R5bGU9IndpZHRoOiAxMDAuMCU7IGhlaWdodDogMTAwLjAlOyI+SGlnaCBQYXJrLCBUaGUgSnVuY3Rpb24gU291dGgsIFdlc3QgVG9yb250bzwvZGl2PmApWzBdOwogICAgICAgICAgICBwb3B1cF9kNDM2NDMyZjZjYTM0MWQ4OGNjYjI2MzU3MGU4OTg2OS5zZXRDb250ZW50KGh0bWxfMDNlMDJiZjNlZTQzNDQ1N2E1ZTQ0OTZhZGFkN2Q1YmMpOwogICAgICAgIAoKICAgICAgICBjaXJjbGVfbWFya2VyX2VkODRlYjg3YzBhZjQ5NDhhZjMzOTA5ZWIzYjZkNWJlLmJpbmRQb3B1cChwb3B1cF9kNDM2NDMyZjZjYTM0MWQ4OGNjYjI2MzU3MGU4OTg2OSkKICAgICAgICA7CgogICAgICAgIAogICAgCiAgICAKICAgICAgICAgICAgdmFyIGNpcmNsZV9tYXJrZXJfNjcyZDk4N2IzNmY5NDE2ZWFlYjlkMzg3M2E0NTdhYjYgPSBMLmNpcmNsZU1hcmtlcigKICAgICAgICAgICAgICAgIFs0My42NDg5NTk3LCAtNzkuNDU2MzI1XSwKICAgICAgICAgICAgICAgIHsiYnViYmxpbmdNb3VzZUV2ZW50cyI6IHRydWUsICJjb2xvciI6ICJibHVlIiwgImRhc2hBcnJheSI6IG51bGwsICJkYXNoT2Zmc2V0IjogbnVsbCwgImZpbGwiOiB0cnVlLCAiZmlsbENvbG9yIjogIiMzMTg2Y2MiLCAiZmlsbE9wYWNpdHkiOiAwLjUsICJmaWxsUnVsZSI6ICJldmVub2RkIiwgImxpbmVDYXAiOiAicm91bmQiLCAibGluZUpvaW4iOiAicm91bmQiLCAib3BhY2l0eSI6IDEuMCwgInJhZGl1cyI6IDUsICJzdHJva2UiOiB0cnVlLCAid2VpZ2h0IjogM30KICAgICAgICAgICAgKS5hZGRUbyhtYXBfZDA2ZTlmNzE0OGNkNGI5YWFkOWY5N2U1MjdkZTQ4NjkpOwogICAgICAgIAogICAgCiAgICAgICAgdmFyIHBvcHVwX2FmMmQ4MDA2ZjI3MjRmZTI5MWY1ZGZiZDE1MjliYTg0ID0gTC5wb3B1cCh7Im1heFdpZHRoIjogIjEwMCUifSk7CgogICAgICAgIAogICAgICAgICAgICB2YXIgaHRtbF9mMzA1Y2VmN2RlOWE0ZWY3ODA3YjkxZDE5M2E1N2FhYiA9ICQoYDxkaXYgaWQ9Imh0bWxfZjMwNWNlZjdkZTlhNGVmNzgwN2I5MWQxOTNhNTdhYWIiIHN0eWxlPSJ3aWR0aDogMTAwLjAlOyBoZWlnaHQ6IDEwMC4wJTsiPlBhcmtkYWxlLCBSb25jZXN2YWxsZXMsIFdlc3QgVG9yb250bzwvZGl2PmApWzBdOwogICAgICAgICAgICBwb3B1cF9hZjJkODAwNmYyNzI0ZmUyOTFmNWRmYmQxNTI5YmE4NC5zZXRDb250ZW50KGh0bWxfZjMwNWNlZjdkZTlhNGVmNzgwN2I5MWQxOTNhNTdhYWIpOwogICAgICAgIAoKICAgICAgICBjaXJjbGVfbWFya2VyXzY3MmQ5ODdiMzZmOTQxNmVhZWI5ZDM4NzNhNDU3YWI2LmJpbmRQb3B1cChwb3B1cF9hZjJkODAwNmYyNzI0ZmUyOTFmNWRmYmQxNTI5YmE4NCkKICAgICAgICA7CgogICAgICAgIAogICAgCiAgICAKICAgICAgICAgICAgdmFyIGNpcmNsZV9tYXJrZXJfM2Q3NjQ5ZWNlNzU5NGMxNjhmZTRiNGU1N2FjNjJjNDkgPSBMLmNpcmNsZU1hcmtlcigKICAgICAgICAgICAgICAgIFs0My42NTE1NzA2LCAtNzkuNDg0NDQ5OV0sCiAgICAgICAgICAgICAgICB7ImJ1YmJsaW5nTW91c2VFdmVudHMiOiB0cnVlLCAiY29sb3IiOiAiYmx1ZSIsICJkYXNoQXJyYXkiOiBudWxsLCAiZGFzaE9mZnNldCI6IG51bGwsICJmaWxsIjogdHJ1ZSwgImZpbGxDb2xvciI6ICIjMzE4NmNjIiwgImZpbGxPcGFjaXR5IjogMC41LCAiZmlsbFJ1bGUiOiAiZXZlbm9kZCIsICJsaW5lQ2FwIjogInJvdW5kIiwgImxpbmVKb2luIjogInJvdW5kIiwgIm9wYWNpdHkiOiAxLjAsICJyYWRpdXMiOiA1LCAic3Ryb2tlIjogdHJ1ZSwgIndlaWdodCI6IDN9CiAgICAgICAgICAgICkuYWRkVG8obWFwX2QwNmU5ZjcxNDhjZDRiOWFhZDlmOTdlNTI3ZGU0ODY5KTsKICAgICAgICAKICAgIAogICAgICAgIHZhciBwb3B1cF9lMDQ2ZWJiZGU4MTc0NDFjYjllYjQ2ZjA1ODkwOTc5ZCA9IEwucG9wdXAoeyJtYXhXaWR0aCI6ICIxMDAlIn0pOwoKICAgICAgICAKICAgICAgICAgICAgdmFyIGh0bWxfZDI2OTk2NGEwY2UxNGQ5MDkyYjQyOGY5MzIxYzk0M2IgPSAkKGA8ZGl2IGlkPSJodG1sX2QyNjk5NjRhMGNlMTRkOTA5MmI0MjhmOTMyMWM5NDNiIiBzdHlsZT0id2lkdGg6IDEwMC4wJTsgaGVpZ2h0OiAxMDAuMCU7Ij5SdW5ueW1lZGUsIFN3YW5zZWEsIFdlc3QgVG9yb250bzwvZGl2PmApWzBdOwogICAgICAgICAgICBwb3B1cF9lMDQ2ZWJiZGU4MTc0NDFjYjllYjQ2ZjA1ODkwOTc5ZC5zZXRDb250ZW50KGh0bWxfZDI2OTk2NGEwY2UxNGQ5MDkyYjQyOGY5MzIxYzk0M2IpOwogICAgICAgIAoKICAgICAgICBjaXJjbGVfbWFya2VyXzNkNzY0OWVjZTc1OTRjMTY4ZmU0YjRlNTdhYzYyYzQ5LmJpbmRQb3B1cChwb3B1cF9lMDQ2ZWJiZGU4MTc0NDFjYjllYjQ2ZjA1ODkwOTc5ZCkKICAgICAgICA7CgogICAgICAgIAogICAgCiAgICAKICAgICAgICAgICAgdmFyIGNpcmNsZV9tYXJrZXJfMzEzOWU4YjA2Y2RhNDgxZGFiNTI1NThiMzVkMDA4MjQgPSBMLmNpcmNsZU1hcmtlcigKICAgICAgICAgICAgICAgIFs0My42NjIzMDE1LCAtNzkuMzg5NDkzOF0sCiAgICAgICAgICAgICAgICB7ImJ1YmJsaW5nTW91c2VFdmVudHMiOiB0cnVlLCAiY29sb3IiOiAiYmx1ZSIsICJkYXNoQXJyYXkiOiBudWxsLCAiZGFzaE9mZnNldCI6IG51bGwsICJmaWxsIjogdHJ1ZSwgImZpbGxDb2xvciI6ICIjMzE4NmNjIiwgImZpbGxPcGFjaXR5IjogMC41LCAiZmlsbFJ1bGUiOiAiZXZlbm9kZCIsICJsaW5lQ2FwIjogInJvdW5kIiwgImxpbmVKb2luIjogInJvdW5kIiwgIm9wYWNpdHkiOiAxLjAsICJyYWRpdXMiOiA1LCAic3Ryb2tlIjogdHJ1ZSwgIndlaWdodCI6IDN9CiAgICAgICAgICAgICkuYWRkVG8obWFwX2QwNmU5ZjcxNDhjZDRiOWFhZDlmOTdlNTI3ZGU0ODY5KTsKICAgICAgICAKICAgIAogICAgICAgIHZhciBwb3B1cF8xNjFlNjdjN2E4NDA0Y2IzODIwZWIwYmNiMjkxZmI1YSA9IEwucG9wdXAoeyJtYXhXaWR0aCI6ICIxMDAlIn0pOwoKICAgICAgICAKICAgICAgICAgICAgdmFyIGh0bWxfMGU2MjgyOTZmOWQ4NDFjZDg0NWI4NTUwODUyMDc5ZGQgPSAkKGA8ZGl2IGlkPSJodG1sXzBlNjI4Mjk2ZjlkODQxY2Q4NDViODU1MDg1MjA3OWRkIiBzdHlsZT0id2lkdGg6IDEwMC4wJTsgaGVpZ2h0OiAxMDAuMCU7Ij5RdWVlbiYjMzk7cyBQYXJrLCBPbnRhcmlvIFByb3ZpbmNpYWwgR292ZXJubWVudCwgRG93bnRvd24gVG9yb250bzwvZGl2PmApWzBdOwogICAgICAgICAgICBwb3B1cF8xNjFlNjdjN2E4NDA0Y2IzODIwZWIwYmNiMjkxZmI1YS5zZXRDb250ZW50KGh0bWxfMGU2MjgyOTZmOWQ4NDFjZDg0NWI4NTUwODUyMDc5ZGQpOwogICAgICAgIAoKICAgICAgICBjaXJjbGVfbWFya2VyXzMxMzllOGIwNmNkYTQ4MWRhYjUyNTU4YjM1ZDAwODI0LmJpbmRQb3B1cChwb3B1cF8xNjFlNjdjN2E4NDA0Y2IzODIwZWIwYmNiMjkxZmI1YSkKICAgICAgICA7CgogICAgICAgIAogICAgCiAgICAKICAgICAgICAgICAgdmFyIGNpcmNsZV9tYXJrZXJfMzAxZDdlMmVhMDBlNGNmNWEyZmY4YjdlMTIyNWU5YjIgPSBMLmNpcmNsZU1hcmtlcigKICAgICAgICAgICAgICAgIFs0My42NjI3NDM5LCAtNzkuMzIxNTU4XSwKICAgICAgICAgICAgICAgIHsiYnViYmxpbmdNb3VzZUV2ZW50cyI6IHRydWUsICJjb2xvciI6ICJibHVlIiwgImRhc2hBcnJheSI6IG51bGwsICJkYXNoT2Zmc2V0IjogbnVsbCwgImZpbGwiOiB0cnVlLCAiZmlsbENvbG9yIjogIiMzMTg2Y2MiLCAiZmlsbE9wYWNpdHkiOiAwLjUsICJmaWxsUnVsZSI6ICJldmVub2RkIiwgImxpbmVDYXAiOiAicm91bmQiLCAibGluZUpvaW4iOiAicm91bmQiLCAib3BhY2l0eSI6IDEuMCwgInJhZGl1cyI6IDUsICJzdHJva2UiOiB0cnVlLCAid2VpZ2h0IjogM30KICAgICAgICAgICAgKS5hZGRUbyhtYXBfZDA2ZTlmNzE0OGNkNGI5YWFkOWY5N2U1MjdkZTQ4NjkpOwogICAgICAgIAogICAgCiAgICAgICAgdmFyIHBvcHVwXzdlM2E2OGEwYzQzNDRkZDNiM2JlOTk0OTYzYWNkMjk2ID0gTC5wb3B1cCh7Im1heFdpZHRoIjogIjEwMCUifSk7CgogICAgICAgIAogICAgICAgICAgICB2YXIgaHRtbF9hMGM0Y2MxMmMyNjM0ZmE2YjBmMjdmYjZkNzk3OGU2MCA9ICQoYDxkaXYgaWQ9Imh0bWxfYTBjNGNjMTJjMjYzNGZhNmIwZjI3ZmI2ZDc5NzhlNjAiIHN0eWxlPSJ3aWR0aDogMTAwLjAlOyBoZWlnaHQ6IDEwMC4wJTsiPkJ1c2luZXNzIHJlcGx5IG1haWwgUHJvY2Vzc2luZyBDZW50cmUsIFNvdXRoIENlbnRyYWwgTGV0dGVyIFByb2Nlc3NpbmcgUGxhbnQgVG9yb250bywgRWFzdCBUb3JvbnRvPC9kaXY+YClbMF07CiAgICAgICAgICAgIHBvcHVwXzdlM2E2OGEwYzQzNDRkZDNiM2JlOTk0OTYzYWNkMjk2LnNldENvbnRlbnQoaHRtbF9hMGM0Y2MxMmMyNjM0ZmE2YjBmMjdmYjZkNzk3OGU2MCk7CiAgICAgICAgCgogICAgICAgIGNpcmNsZV9tYXJrZXJfMzAxZDdlMmVhMDBlNGNmNWEyZmY4YjdlMTIyNWU5YjIuYmluZFBvcHVwKHBvcHVwXzdlM2E2OGEwYzQzNDRkZDNiM2JlOTk0OTYzYWNkMjk2KQogICAgICAgIDsKCiAgICAgICAgCiAgICAKPC9zY3JpcHQ+ onload=\"this.contentDocument.open();this.contentDocument.write(atob(this.getAttribute('data-html')));this.contentDocument.close();\" allowfullscreen webkitallowfullscreen mozallowfullscreen></iframe></div></div>"
      ],
      "text/plain": [
       "<folium.folium.Map at 0x1abc4576ec8>"
      ]
     },
     "execution_count": 149,
     "metadata": {},
     "output_type": "execute_result"
    }
   ],
   "source": [
    "# Plotting a map with the dataframe above\n",
    "map_toronto = folium.Map(location=[43.6532,-79.3832],zoom_start=12)\n",
    "\n",
    "for lat, lon, bor, neigh in zip(toronto['Latitude'],toronto['Longitude'],toronto['Borough'],toronto['Neighborhood']):\n",
    "    label = '{}, {}'.format(neigh, bor)\n",
    "    label = folium.Popup(label, parse_html=True)\n",
    "    folium.CircleMarker(\n",
    "    [lat,lon],\n",
    "    radius=5,\n",
    "    popup=label,\n",
    "    color='blue',\n",
    "    fill=True,\n",
    "    fill_color='#3186cc',\n",
    "    fill_opacity=0.5,\n",
    "    parse_html=False).add_to(map_toronto)\n",
    "\n",
    "map_toronto"
   ]
  },
  {
   "cell_type": "markdown",
   "metadata": {},
   "source": [
    "### * Map plotted might not be shown. Please visit the **Images** folder for **Map 1.PNG**"
   ]
  },
  {
   "cell_type": "markdown",
   "metadata": {},
   "source": [
    "## Cluster the neighborhoods in Toronto with K-Means Clustering"
   ]
  },
  {
   "cell_type": "code",
   "execution_count": 135,
   "metadata": {},
   "outputs": [],
   "source": [
    "k=5\n",
    "clustering = toronto.drop(['Postalcode','Borough','Neighborhood'], axis = 1)\n",
    "kmeans = KMeans(n_clusters = k, random_state=0).fit(clustering)\n",
    "kmeans.labels_\n",
    "toronto.insert(0, 'Cluster Labels', kmeans.labels_)"
   ]
  },
  {
   "cell_type": "code",
   "execution_count": 136,
   "metadata": {},
   "outputs": [
    {
     "data": {
      "text/html": [
       "<div>\n",
       "<style scoped>\n",
       "    .dataframe tbody tr th:only-of-type {\n",
       "        vertical-align: middle;\n",
       "    }\n",
       "\n",
       "    .dataframe tbody tr th {\n",
       "        vertical-align: top;\n",
       "    }\n",
       "\n",
       "    .dataframe thead th {\n",
       "        text-align: right;\n",
       "    }\n",
       "</style>\n",
       "<table border=\"1\" class=\"dataframe\">\n",
       "  <thead>\n",
       "    <tr style=\"text-align: right;\">\n",
       "      <th></th>\n",
       "      <th>Cluster Labels</th>\n",
       "      <th>Postalcode</th>\n",
       "      <th>Latitude</th>\n",
       "      <th>Longitude</th>\n",
       "      <th>Borough</th>\n",
       "      <th>Neighborhood</th>\n",
       "    </tr>\n",
       "  </thead>\n",
       "  <tbody>\n",
       "    <tr>\n",
       "      <th>0</th>\n",
       "      <td>4</td>\n",
       "      <td>M4E</td>\n",
       "      <td>43.676357</td>\n",
       "      <td>-79.293031</td>\n",
       "      <td>East Toronto</td>\n",
       "      <td>The Beaches</td>\n",
       "    </tr>\n",
       "    <tr>\n",
       "      <th>1</th>\n",
       "      <td>4</td>\n",
       "      <td>M4K</td>\n",
       "      <td>43.679557</td>\n",
       "      <td>-79.352188</td>\n",
       "      <td>East Toronto</td>\n",
       "      <td>The Danforth West, Riverdale</td>\n",
       "    </tr>\n",
       "    <tr>\n",
       "      <th>2</th>\n",
       "      <td>4</td>\n",
       "      <td>M4L</td>\n",
       "      <td>43.668999</td>\n",
       "      <td>-79.315572</td>\n",
       "      <td>East Toronto</td>\n",
       "      <td>India Bazaar, The Beaches West</td>\n",
       "    </tr>\n",
       "    <tr>\n",
       "      <th>3</th>\n",
       "      <td>4</td>\n",
       "      <td>M4M</td>\n",
       "      <td>43.659526</td>\n",
       "      <td>-79.340923</td>\n",
       "      <td>East Toronto</td>\n",
       "      <td>Studio District</td>\n",
       "    </tr>\n",
       "    <tr>\n",
       "      <th>4</th>\n",
       "      <td>2</td>\n",
       "      <td>M4N</td>\n",
       "      <td>43.728020</td>\n",
       "      <td>-79.388790</td>\n",
       "      <td>Central Toronto</td>\n",
       "      <td>Lawrence Park</td>\n",
       "    </tr>\n",
       "  </tbody>\n",
       "</table>\n",
       "</div>"
      ],
      "text/plain": [
       "   Cluster Labels Postalcode   Latitude  Longitude          Borough  \\\n",
       "0               4        M4E  43.676357 -79.293031     East Toronto   \n",
       "1               4        M4K  43.679557 -79.352188     East Toronto   \n",
       "2               4        M4L  43.668999 -79.315572     East Toronto   \n",
       "3               4        M4M  43.659526 -79.340923     East Toronto   \n",
       "4               2        M4N  43.728020 -79.388790  Central Toronto   \n",
       "\n",
       "                     Neighborhood  \n",
       "0                     The Beaches  \n",
       "1    The Danforth West, Riverdale  \n",
       "2  India Bazaar, The Beaches West  \n",
       "3                 Studio District  \n",
       "4                   Lawrence Park  "
      ]
     },
     "execution_count": 136,
     "metadata": {},
     "output_type": "execute_result"
    }
   ],
   "source": [
    "toronto.head()"
   ]
  },
  {
   "cell_type": "markdown",
   "metadata": {},
   "source": [
    "## Plot the neighborhoods in Toronto after clustering with Folium"
   ]
  },
  {
   "cell_type": "code",
   "execution_count": 147,
   "metadata": {},
   "outputs": [
    {
     "data": {
      "text/html": [
       "<div style=\"width:100%;\"><div style=\"position:relative;width:100%;height:0;padding-bottom:60%;\"><span style=\"color:#565656\">Make this Notebook Trusted to load map: File -> Trust Notebook</span><iframe src=\"about:blank\" style=\"position:absolute;width:100%;height:100%;left:0;top:0;border:none !important;\" data-html=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 onload=\"this.contentDocument.open();this.contentDocument.write(atob(this.getAttribute('data-html')));this.contentDocument.close();\" allowfullscreen webkitallowfullscreen mozallowfullscreen></iframe></div></div>"
      ],
      "text/plain": [
       "<folium.folium.Map at 0x1abc442a8c8>"
      ]
     },
     "execution_count": 147,
     "metadata": {},
     "output_type": "execute_result"
    }
   ],
   "source": [
    "map_cluster = folium.Map(location=[43.6532,-79.3832], zoom_start=12)\n",
    "\n",
    "# set color for the clusters\n",
    "x = np.arange(k)\n",
    "ys = [x + i + (i*x)**2 for i in range(k)] \n",
    "colors_array = cm.magma(np.linspace(0, 1, len(ys)))\n",
    "rainbow = [colors.rgb2hex(i) for i in colors_array]\n",
    "\n",
    "# add markers to the map\n",
    "markers_colors = []\n",
    "for lat, lon, neigh, cluster in zip(toronto['Latitude'], toronto['Longitude'], toronto['Neighborhood'], toronto['Cluster Labels']):\n",
    "    label = folium.Popup(' Cluster ' + str(cluster), parse_html=True)\n",
    "    folium.CircleMarker(\n",
    "        [lat, lon],\n",
    "        radius=5,\n",
    "        popup=label,\n",
    "        color=rainbow[cluster-1],\n",
    "        fill=True,\n",
    "        fill_color=rainbow[cluster-1],\n",
    "        fill_opacity=0.5).add_to(map_cluster)\n",
    "       \n",
    "map_cluster"
   ]
  },
  {
   "cell_type": "markdown",
   "metadata": {},
   "source": [
    "### * Map plotted might not be shown. Please visit the **Images** folder for **Map 2.PNG**"
   ]
  }
 ],
 "metadata": {
  "kernelspec": {
   "display_name": "Python 3",
   "language": "python",
   "name": "python3"
  },
  "language_info": {
   "codemirror_mode": {
    "name": "ipython",
    "version": 3
   },
   "file_extension": ".py",
   "mimetype": "text/x-python",
   "name": "python",
   "nbconvert_exporter": "python",
   "pygments_lexer": "ipython3",
   "version": "3.7.6"
  }
 },
 "nbformat": 4,
 "nbformat_minor": 4
}
