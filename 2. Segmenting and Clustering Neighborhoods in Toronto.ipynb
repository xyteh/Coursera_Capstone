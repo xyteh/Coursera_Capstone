{
 "cells": [
  {
   "cell_type": "markdown",
   "metadata": {},
   "source": [
    "# Segmenting and Clustering Neighborhoods in Toronto"
   ]
  },
  {
   "cell_type": "markdown",
   "metadata": {},
   "source": [
    "Data is scraped from the following Wikipedia page, https://en.wikipedia.org/wiki/List_of_postal_codes_of_Canada:_M"
   ]
  },
  {
   "cell_type": "markdown",
   "metadata": {},
   "source": [
    "### Libraries Used"
   ]
  },
  {
   "cell_type": "code",
   "execution_count": 143,
   "metadata": {},
   "outputs": [],
   "source": [
    "import pandas as pd\n",
    "import numpy as np\n",
    "import requests\n",
    "from bs4 import BeautifulSoup\n",
    "import folium\n",
    "from sklearn.cluster import KMeans\n",
    "from matplotlib import cm\n",
    "from matplotlib import colors"
   ]
  },
  {
   "cell_type": "markdown",
   "metadata": {},
   "source": [
    "### Scrape data from wikipedia"
   ]
  },
  {
   "cell_type": "code",
   "execution_count": 94,
   "metadata": {},
   "outputs": [],
   "source": [
    "url =  \"https://en.wikipedia.org/wiki/List_of_postal_codes_of_Canada:_M\"\n",
    "html_content = requests.get(url).text"
   ]
  },
  {
   "cell_type": "code",
   "execution_count": 95,
   "metadata": {},
   "outputs": [],
   "source": [
    "soup = BeautifulSoup(html_content, 'xml')"
   ]
  },
  {
   "cell_type": "code",
   "execution_count": 96,
   "metadata": {},
   "outputs": [],
   "source": [
    "table = soup.find('table')"
   ]
  },
  {
   "cell_type": "code",
   "execution_count": 97,
   "metadata": {},
   "outputs": [],
   "source": [
    "# Create a dataframe with 3 columns: PostalCode, Borough and Neighborhood\n",
    "col = ['Postalcode','Borough','Neighborhood']\n",
    "df = pd.DataFrame(columns = col)"
   ]
  },
  {
   "cell_type": "code",
   "execution_count": 98,
   "metadata": {},
   "outputs": [],
   "source": [
    "# Get all data in PostalCode, Borough and Neighborhood \n",
    "for tr in table.find_all('tr'):\n",
    "    row = []\n",
    "    for td in tr.find_all('td'):\n",
    "        row.append(td.text.strip())\n",
    "    if len(row)==3:\n",
    "        df.loc[len(df)] = row"
   ]
  },
  {
   "cell_type": "code",
   "execution_count": 99,
   "metadata": {},
   "outputs": [
    {
     "data": {
      "text/html": [
       "<div>\n",
       "<style scoped>\n",
       "    .dataframe tbody tr th:only-of-type {\n",
       "        vertical-align: middle;\n",
       "    }\n",
       "\n",
       "    .dataframe tbody tr th {\n",
       "        vertical-align: top;\n",
       "    }\n",
       "\n",
       "    .dataframe thead th {\n",
       "        text-align: right;\n",
       "    }\n",
       "</style>\n",
       "<table border=\"1\" class=\"dataframe\">\n",
       "  <thead>\n",
       "    <tr style=\"text-align: right;\">\n",
       "      <th></th>\n",
       "      <th>Postalcode</th>\n",
       "      <th>Borough</th>\n",
       "      <th>Neighborhood</th>\n",
       "    </tr>\n",
       "  </thead>\n",
       "  <tbody>\n",
       "    <tr>\n",
       "      <th>0</th>\n",
       "      <td>M1A</td>\n",
       "      <td>Not assigned</td>\n",
       "      <td>Not assigned</td>\n",
       "    </tr>\n",
       "    <tr>\n",
       "      <th>1</th>\n",
       "      <td>M2A</td>\n",
       "      <td>Not assigned</td>\n",
       "      <td>Not assigned</td>\n",
       "    </tr>\n",
       "    <tr>\n",
       "      <th>2</th>\n",
       "      <td>M3A</td>\n",
       "      <td>North York</td>\n",
       "      <td>Parkwoods</td>\n",
       "    </tr>\n",
       "    <tr>\n",
       "      <th>3</th>\n",
       "      <td>M4A</td>\n",
       "      <td>North York</td>\n",
       "      <td>Victoria Village</td>\n",
       "    </tr>\n",
       "    <tr>\n",
       "      <th>4</th>\n",
       "      <td>M5A</td>\n",
       "      <td>Downtown Toronto</td>\n",
       "      <td>Regent Park, Harbourfront</td>\n",
       "    </tr>\n",
       "  </tbody>\n",
       "</table>\n",
       "</div>"
      ],
      "text/plain": [
       "  Postalcode           Borough               Neighborhood\n",
       "0        M1A      Not assigned               Not assigned\n",
       "1        M2A      Not assigned               Not assigned\n",
       "2        M3A        North York                  Parkwoods\n",
       "3        M4A        North York           Victoria Village\n",
       "4        M5A  Downtown Toronto  Regent Park, Harbourfront"
      ]
     },
     "execution_count": 99,
     "metadata": {},
     "output_type": "execute_result"
    }
   ],
   "source": [
    "df.head()"
   ]
  },
  {
   "cell_type": "markdown",
   "metadata": {},
   "source": [
    "### Data Processing and Data Cleaning"
   ]
  },
  {
   "cell_type": "code",
   "execution_count": 100,
   "metadata": {},
   "outputs": [],
   "source": [
    "# Remove row with a borough that is Not assigned\n",
    "df = df[df.Borough != 'Not assigned'].reset_index(drop = True)"
   ]
  },
  {
   "cell_type": "code",
   "execution_count": 101,
   "metadata": {},
   "outputs": [
    {
     "data": {
      "text/html": [
       "<div>\n",
       "<style scoped>\n",
       "    .dataframe tbody tr th:only-of-type {\n",
       "        vertical-align: middle;\n",
       "    }\n",
       "\n",
       "    .dataframe tbody tr th {\n",
       "        vertical-align: top;\n",
       "    }\n",
       "\n",
       "    .dataframe thead th {\n",
       "        text-align: right;\n",
       "    }\n",
       "</style>\n",
       "<table border=\"1\" class=\"dataframe\">\n",
       "  <thead>\n",
       "    <tr style=\"text-align: right;\">\n",
       "      <th></th>\n",
       "      <th>Postalcode</th>\n",
       "      <th>Borough</th>\n",
       "      <th>Neighborhood</th>\n",
       "    </tr>\n",
       "  </thead>\n",
       "  <tbody>\n",
       "    <tr>\n",
       "      <th>0</th>\n",
       "      <td>M3A</td>\n",
       "      <td>North York</td>\n",
       "      <td>Parkwoods</td>\n",
       "    </tr>\n",
       "    <tr>\n",
       "      <th>1</th>\n",
       "      <td>M4A</td>\n",
       "      <td>North York</td>\n",
       "      <td>Victoria Village</td>\n",
       "    </tr>\n",
       "    <tr>\n",
       "      <th>2</th>\n",
       "      <td>M5A</td>\n",
       "      <td>Downtown Toronto</td>\n",
       "      <td>Regent Park, Harbourfront</td>\n",
       "    </tr>\n",
       "    <tr>\n",
       "      <th>3</th>\n",
       "      <td>M6A</td>\n",
       "      <td>North York</td>\n",
       "      <td>Lawrence Manor, Lawrence Heights</td>\n",
       "    </tr>\n",
       "    <tr>\n",
       "      <th>4</th>\n",
       "      <td>M7A</td>\n",
       "      <td>Downtown Toronto</td>\n",
       "      <td>Queen's Park, Ontario Provincial Government</td>\n",
       "    </tr>\n",
       "  </tbody>\n",
       "</table>\n",
       "</div>"
      ],
      "text/plain": [
       "  Postalcode           Borough                                 Neighborhood\n",
       "0        M3A        North York                                    Parkwoods\n",
       "1        M4A        North York                             Victoria Village\n",
       "2        M5A  Downtown Toronto                    Regent Park, Harbourfront\n",
       "3        M6A        North York             Lawrence Manor, Lawrence Heights\n",
       "4        M7A  Downtown Toronto  Queen's Park, Ontario Provincial Government"
      ]
     },
     "execution_count": 101,
     "metadata": {},
     "output_type": "execute_result"
    }
   ],
   "source": [
    "df.head()"
   ]
  },
  {
   "cell_type": "code",
   "execution_count": 102,
   "metadata": {},
   "outputs": [],
   "source": [
    "# Combine neighbourhoods with same Postalcode\n",
    "df = df.groupby(['Postalcode','Borough'], sort=False).agg(', '.join)\n",
    "df = pd.DataFrame(temp).reset_index()"
   ]
  },
  {
   "cell_type": "code",
   "execution_count": 103,
   "metadata": {},
   "outputs": [
    {
     "data": {
      "text/plain": [
       "(103, 4)"
      ]
     },
     "execution_count": 103,
     "metadata": {},
     "output_type": "execute_result"
    }
   ],
   "source": [
    "df.shape"
   ]
  },
  {
   "cell_type": "markdown",
   "metadata": {},
   "source": [
    "### Adding Geospacial Data to Dataframe"
   ]
  },
  {
   "cell_type": "code",
   "execution_count": 105,
   "metadata": {},
   "outputs": [],
   "source": [
    "geo_data = pd.read_csv('http://cocl.us/Geospatial_data')"
   ]
  },
  {
   "cell_type": "code",
   "execution_count": 106,
   "metadata": {},
   "outputs": [
    {
     "data": {
      "text/html": [
       "<div>\n",
       "<style scoped>\n",
       "    .dataframe tbody tr th:only-of-type {\n",
       "        vertical-align: middle;\n",
       "    }\n",
       "\n",
       "    .dataframe tbody tr th {\n",
       "        vertical-align: top;\n",
       "    }\n",
       "\n",
       "    .dataframe thead th {\n",
       "        text-align: right;\n",
       "    }\n",
       "</style>\n",
       "<table border=\"1\" class=\"dataframe\">\n",
       "  <thead>\n",
       "    <tr style=\"text-align: right;\">\n",
       "      <th></th>\n",
       "      <th>Postal Code</th>\n",
       "      <th>Latitude</th>\n",
       "      <th>Longitude</th>\n",
       "    </tr>\n",
       "  </thead>\n",
       "  <tbody>\n",
       "    <tr>\n",
       "      <th>0</th>\n",
       "      <td>M1B</td>\n",
       "      <td>43.806686</td>\n",
       "      <td>-79.194353</td>\n",
       "    </tr>\n",
       "    <tr>\n",
       "      <th>1</th>\n",
       "      <td>M1C</td>\n",
       "      <td>43.784535</td>\n",
       "      <td>-79.160497</td>\n",
       "    </tr>\n",
       "    <tr>\n",
       "      <th>2</th>\n",
       "      <td>M1E</td>\n",
       "      <td>43.763573</td>\n",
       "      <td>-79.188711</td>\n",
       "    </tr>\n",
       "    <tr>\n",
       "      <th>3</th>\n",
       "      <td>M1G</td>\n",
       "      <td>43.770992</td>\n",
       "      <td>-79.216917</td>\n",
       "    </tr>\n",
       "    <tr>\n",
       "      <th>4</th>\n",
       "      <td>M1H</td>\n",
       "      <td>43.773136</td>\n",
       "      <td>-79.239476</td>\n",
       "    </tr>\n",
       "  </tbody>\n",
       "</table>\n",
       "</div>"
      ],
      "text/plain": [
       "  Postal Code   Latitude  Longitude\n",
       "0         M1B  43.806686 -79.194353\n",
       "1         M1C  43.784535 -79.160497\n",
       "2         M1E  43.763573 -79.188711\n",
       "3         M1G  43.770992 -79.216917\n",
       "4         M1H  43.773136 -79.239476"
      ]
     },
     "execution_count": 106,
     "metadata": {},
     "output_type": "execute_result"
    }
   ],
   "source": [
    "geo_data.head()"
   ]
  },
  {
   "cell_type": "code",
   "execution_count": 107,
   "metadata": {},
   "outputs": [],
   "source": [
    "geo_data = geo_data.rename(columns={'Postal Code':'Postalcode'})\n",
    "df = pd.merge(df, geo_data, on='Postalcode')\n",
    "df = df.drop(['index'], axis=1)"
   ]
  },
  {
   "cell_type": "code",
   "execution_count": 111,
   "metadata": {},
   "outputs": [
    {
     "data": {
      "text/html": [
       "<div>\n",
       "<style scoped>\n",
       "    .dataframe tbody tr th:only-of-type {\n",
       "        vertical-align: middle;\n",
       "    }\n",
       "\n",
       "    .dataframe tbody tr th {\n",
       "        vertical-align: top;\n",
       "    }\n",
       "\n",
       "    .dataframe thead th {\n",
       "        text-align: right;\n",
       "    }\n",
       "</style>\n",
       "<table border=\"1\" class=\"dataframe\">\n",
       "  <thead>\n",
       "    <tr style=\"text-align: right;\">\n",
       "      <th></th>\n",
       "      <th>Postalcode</th>\n",
       "      <th>Latitude</th>\n",
       "      <th>Longitude</th>\n",
       "      <th>Borough</th>\n",
       "      <th>Neighborhood</th>\n",
       "    </tr>\n",
       "  </thead>\n",
       "  <tbody>\n",
       "    <tr>\n",
       "      <th>0</th>\n",
       "      <td>M1B</td>\n",
       "      <td>43.806686</td>\n",
       "      <td>-79.194353</td>\n",
       "      <td>Scarborough</td>\n",
       "      <td>Malvern, Rouge</td>\n",
       "    </tr>\n",
       "    <tr>\n",
       "      <th>1</th>\n",
       "      <td>M1C</td>\n",
       "      <td>43.784535</td>\n",
       "      <td>-79.160497</td>\n",
       "      <td>Scarborough</td>\n",
       "      <td>Rouge Hill, Port Union, Highland Creek</td>\n",
       "    </tr>\n",
       "    <tr>\n",
       "      <th>2</th>\n",
       "      <td>M1E</td>\n",
       "      <td>43.763573</td>\n",
       "      <td>-79.188711</td>\n",
       "      <td>Scarborough</td>\n",
       "      <td>Guildwood, Morningside, West Hill</td>\n",
       "    </tr>\n",
       "    <tr>\n",
       "      <th>3</th>\n",
       "      <td>M1G</td>\n",
       "      <td>43.770992</td>\n",
       "      <td>-79.216917</td>\n",
       "      <td>Scarborough</td>\n",
       "      <td>Woburn</td>\n",
       "    </tr>\n",
       "    <tr>\n",
       "      <th>4</th>\n",
       "      <td>M1H</td>\n",
       "      <td>43.773136</td>\n",
       "      <td>-79.239476</td>\n",
       "      <td>Scarborough</td>\n",
       "      <td>Cedarbrae</td>\n",
       "    </tr>\n",
       "  </tbody>\n",
       "</table>\n",
       "</div>"
      ],
      "text/plain": [
       "  Postalcode   Latitude  Longitude      Borough  \\\n",
       "0        M1B  43.806686 -79.194353  Scarborough   \n",
       "1        M1C  43.784535 -79.160497  Scarborough   \n",
       "2        M1E  43.763573 -79.188711  Scarborough   \n",
       "3        M1G  43.770992 -79.216917  Scarborough   \n",
       "4        M1H  43.773136 -79.239476  Scarborough   \n",
       "\n",
       "                             Neighborhood  \n",
       "0                          Malvern, Rouge  \n",
       "1  Rouge Hill, Port Union, Highland Creek  \n",
       "2       Guildwood, Morningside, West Hill  \n",
       "3                                  Woburn  \n",
       "4                               Cedarbrae  "
      ]
     },
     "execution_count": 111,
     "metadata": {},
     "output_type": "execute_result"
    }
   ],
   "source": [
    "df.head()"
   ]
  },
  {
   "cell_type": "markdown",
   "metadata": {},
   "source": [
    "### Plot the neighborhoods in Toronto"
   ]
  },
  {
   "cell_type": "code",
   "execution_count": 116,
   "metadata": {},
   "outputs": [],
   "source": [
    "# Getting data that rows that contain Toronto in Borough\n",
    "toronto = df[df['Borough'].str.contains('Toronto')].reset_index(drop = True)"
   ]
  },
  {
   "cell_type": "code",
   "execution_count": 117,
   "metadata": {},
   "outputs": [
    {
     "data": {
      "text/html": [
       "<div>\n",
       "<style scoped>\n",
       "    .dataframe tbody tr th:only-of-type {\n",
       "        vertical-align: middle;\n",
       "    }\n",
       "\n",
       "    .dataframe tbody tr th {\n",
       "        vertical-align: top;\n",
       "    }\n",
       "\n",
       "    .dataframe thead th {\n",
       "        text-align: right;\n",
       "    }\n",
       "</style>\n",
       "<table border=\"1\" class=\"dataframe\">\n",
       "  <thead>\n",
       "    <tr style=\"text-align: right;\">\n",
       "      <th></th>\n",
       "      <th>Postalcode</th>\n",
       "      <th>Latitude</th>\n",
       "      <th>Longitude</th>\n",
       "      <th>Borough</th>\n",
       "      <th>Neighborhood</th>\n",
       "    </tr>\n",
       "  </thead>\n",
       "  <tbody>\n",
       "    <tr>\n",
       "      <th>0</th>\n",
       "      <td>M4E</td>\n",
       "      <td>43.676357</td>\n",
       "      <td>-79.293031</td>\n",
       "      <td>East Toronto</td>\n",
       "      <td>The Beaches</td>\n",
       "    </tr>\n",
       "    <tr>\n",
       "      <th>1</th>\n",
       "      <td>M4K</td>\n",
       "      <td>43.679557</td>\n",
       "      <td>-79.352188</td>\n",
       "      <td>East Toronto</td>\n",
       "      <td>The Danforth West, Riverdale</td>\n",
       "    </tr>\n",
       "    <tr>\n",
       "      <th>2</th>\n",
       "      <td>M4L</td>\n",
       "      <td>43.668999</td>\n",
       "      <td>-79.315572</td>\n",
       "      <td>East Toronto</td>\n",
       "      <td>India Bazaar, The Beaches West</td>\n",
       "    </tr>\n",
       "    <tr>\n",
       "      <th>3</th>\n",
       "      <td>M4M</td>\n",
       "      <td>43.659526</td>\n",
       "      <td>-79.340923</td>\n",
       "      <td>East Toronto</td>\n",
       "      <td>Studio District</td>\n",
       "    </tr>\n",
       "    <tr>\n",
       "      <th>4</th>\n",
       "      <td>M4N</td>\n",
       "      <td>43.728020</td>\n",
       "      <td>-79.388790</td>\n",
       "      <td>Central Toronto</td>\n",
       "      <td>Lawrence Park</td>\n",
       "    </tr>\n",
       "  </tbody>\n",
       "</table>\n",
       "</div>"
      ],
      "text/plain": [
       "  Postalcode   Latitude  Longitude          Borough  \\\n",
       "0        M4E  43.676357 -79.293031     East Toronto   \n",
       "1        M4K  43.679557 -79.352188     East Toronto   \n",
       "2        M4L  43.668999 -79.315572     East Toronto   \n",
       "3        M4M  43.659526 -79.340923     East Toronto   \n",
       "4        M4N  43.728020 -79.388790  Central Toronto   \n",
       "\n",
       "                     Neighborhood  \n",
       "0                     The Beaches  \n",
       "1    The Danforth West, Riverdale  \n",
       "2  India Bazaar, The Beaches West  \n",
       "3                 Studio District  \n",
       "4                   Lawrence Park  "
      ]
     },
     "execution_count": 117,
     "metadata": {},
     "output_type": "execute_result"
    }
   ],
   "source": [
    "toronto.head()"
   ]
  },
  {
   "cell_type": "code",
   "execution_count": 130,
   "metadata": {},
   "outputs": [
    {
     "data": {
      "text/html": [
       "<div style=\"width:100%;\"><div style=\"position:relative;width:100%;height:0;padding-bottom:60%;\"><span style=\"color:#565656\">Make this Notebook Trusted to load map: File -> Trust Notebook</span><iframe src=\"about:blank\" style=\"position:absolute;width:100%;height:100%;left:0;top:0;border:none !important;\" data-html=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 onload=\"this.contentDocument.open();this.contentDocument.write(atob(this.getAttribute('data-html')));this.contentDocument.close();\" allowfullscreen webkitallowfullscreen mozallowfullscreen></iframe></div></div>"
      ],
      "text/plain": [
       "<folium.folium.Map at 0x1abc1107b08>"
      ]
     },
     "execution_count": 130,
     "metadata": {},
     "output_type": "execute_result"
    }
   ],
   "source": [
    "# Plotting a map with the dataframe above\n",
    "map_toronto = folium.Map(location=[43.6532,-79.3832],zoom_start=11)\n",
    "\n",
    "for lat, lon, bor, neigh in zip(toronto['Latitude'],toronto['Longitude'],toronto['Borough'],toronto['Neighborhood']):\n",
    "    label = '{}, {}'.format(neigh, bor)\n",
    "    label = folium.Popup(label, parse_html=True)\n",
    "    folium.CircleMarker(\n",
    "    [lat,lon],\n",
    "    radius=5,\n",
    "    popup=label,\n",
    "    color='blue',\n",
    "    fill=True,\n",
    "    fill_color='#3186cc',\n",
    "    fill_opacity=0.5,\n",
    "    parse_html=False).add_to(map_toronto)\n",
    "\n",
    "map_toronto"
   ]
  },
  {
   "cell_type": "markdown",
   "metadata": {},
   "source": [
    "### Cluster the neighborhoods in Toronto with K-Means Clustering"
   ]
  },
  {
   "cell_type": "code",
   "execution_count": 135,
   "metadata": {},
   "outputs": [],
   "source": [
    "k=5\n",
    "clustering = toronto.drop(['Postalcode','Borough','Neighborhood'], axis = 1)\n",
    "kmeans = KMeans(n_clusters = k, random_state=0).fit(clustering)\n",
    "kmeans.labels_\n",
    "toronto.insert(0, 'Cluster Labels', kmeans.labels_)"
   ]
  },
  {
   "cell_type": "code",
   "execution_count": 136,
   "metadata": {},
   "outputs": [
    {
     "data": {
      "text/html": [
       "<div>\n",
       "<style scoped>\n",
       "    .dataframe tbody tr th:only-of-type {\n",
       "        vertical-align: middle;\n",
       "    }\n",
       "\n",
       "    .dataframe tbody tr th {\n",
       "        vertical-align: top;\n",
       "    }\n",
       "\n",
       "    .dataframe thead th {\n",
       "        text-align: right;\n",
       "    }\n",
       "</style>\n",
       "<table border=\"1\" class=\"dataframe\">\n",
       "  <thead>\n",
       "    <tr style=\"text-align: right;\">\n",
       "      <th></th>\n",
       "      <th>Cluster Labels</th>\n",
       "      <th>Postalcode</th>\n",
       "      <th>Latitude</th>\n",
       "      <th>Longitude</th>\n",
       "      <th>Borough</th>\n",
       "      <th>Neighborhood</th>\n",
       "    </tr>\n",
       "  </thead>\n",
       "  <tbody>\n",
       "    <tr>\n",
       "      <th>0</th>\n",
       "      <td>4</td>\n",
       "      <td>M4E</td>\n",
       "      <td>43.676357</td>\n",
       "      <td>-79.293031</td>\n",
       "      <td>East Toronto</td>\n",
       "      <td>The Beaches</td>\n",
       "    </tr>\n",
       "    <tr>\n",
       "      <th>1</th>\n",
       "      <td>4</td>\n",
       "      <td>M4K</td>\n",
       "      <td>43.679557</td>\n",
       "      <td>-79.352188</td>\n",
       "      <td>East Toronto</td>\n",
       "      <td>The Danforth West, Riverdale</td>\n",
       "    </tr>\n",
       "    <tr>\n",
       "      <th>2</th>\n",
       "      <td>4</td>\n",
       "      <td>M4L</td>\n",
       "      <td>43.668999</td>\n",
       "      <td>-79.315572</td>\n",
       "      <td>East Toronto</td>\n",
       "      <td>India Bazaar, The Beaches West</td>\n",
       "    </tr>\n",
       "    <tr>\n",
       "      <th>3</th>\n",
       "      <td>4</td>\n",
       "      <td>M4M</td>\n",
       "      <td>43.659526</td>\n",
       "      <td>-79.340923</td>\n",
       "      <td>East Toronto</td>\n",
       "      <td>Studio District</td>\n",
       "    </tr>\n",
       "    <tr>\n",
       "      <th>4</th>\n",
       "      <td>2</td>\n",
       "      <td>M4N</td>\n",
       "      <td>43.728020</td>\n",
       "      <td>-79.388790</td>\n",
       "      <td>Central Toronto</td>\n",
       "      <td>Lawrence Park</td>\n",
       "    </tr>\n",
       "  </tbody>\n",
       "</table>\n",
       "</div>"
      ],
      "text/plain": [
       "   Cluster Labels Postalcode   Latitude  Longitude          Borough  \\\n",
       "0               4        M4E  43.676357 -79.293031     East Toronto   \n",
       "1               4        M4K  43.679557 -79.352188     East Toronto   \n",
       "2               4        M4L  43.668999 -79.315572     East Toronto   \n",
       "3               4        M4M  43.659526 -79.340923     East Toronto   \n",
       "4               2        M4N  43.728020 -79.388790  Central Toronto   \n",
       "\n",
       "                     Neighborhood  \n",
       "0                     The Beaches  \n",
       "1    The Danforth West, Riverdale  \n",
       "2  India Bazaar, The Beaches West  \n",
       "3                 Studio District  \n",
       "4                   Lawrence Park  "
      ]
     },
     "execution_count": 136,
     "metadata": {},
     "output_type": "execute_result"
    }
   ],
   "source": [
    "toronto.head()"
   ]
  },
  {
   "cell_type": "markdown",
   "metadata": {},
   "source": [
    "### Plot the neighborhoods in Toronto after clustering"
   ]
  },
  {
   "cell_type": "code",
   "execution_count": 140,
   "metadata": {},
   "outputs": [
    {
     "data": {
      "text/plain": [
       "array([0, 1, 2, 3, 4])"
      ]
     },
     "execution_count": 140,
     "metadata": {},
     "output_type": "execute_result"
    }
   ],
   "source": [
    "np.arange(k)"
   ]
  },
  {
   "cell_type": "code",
   "execution_count": 147,
   "metadata": {},
   "outputs": [
    {
     "data": {
      "text/html": [
       "<div style=\"width:100%;\"><div style=\"position:relative;width:100%;height:0;padding-bottom:60%;\"><span style=\"color:#565656\">Make this Notebook Trusted to load map: File -> Trust Notebook</span><iframe src=\"about:blank\" style=\"position:absolute;width:100%;height:100%;left:0;top:0;border:none !important;\" data-html=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 onload=\"this.contentDocument.open();this.contentDocument.write(atob(this.getAttribute('data-html')));this.contentDocument.close();\" allowfullscreen webkitallowfullscreen mozallowfullscreen></iframe></div></div>"
      ],
      "text/plain": [
       "<folium.folium.Map at 0x1abc442a8c8>"
      ]
     },
     "execution_count": 147,
     "metadata": {},
     "output_type": "execute_result"
    }
   ],
   "source": [
    "map_cluster = folium.Map(location=[43.6532,-79.3832], zoom_start=12)\n",
    "\n",
    "# set color for the clusters\n",
    "x = np.arange(k)\n",
    "ys = [x + i + (i*x)**2 for i in range(k)] \n",
    "colors_array = cm.magma(np.linspace(0, 1, len(ys)))\n",
    "rainbow = [colors.rgb2hex(i) for i in colors_array]\n",
    "\n",
    "# add markers to the map\n",
    "markers_colors = []\n",
    "for lat, lon, neigh, cluster in zip(toronto['Latitude'], toronto['Longitude'], toronto['Neighborhood'], toronto['Cluster Labels']):\n",
    "    label = folium.Popup(' Cluster ' + str(cluster), parse_html=True)\n",
    "    folium.CircleMarker(\n",
    "        [lat, lon],\n",
    "        radius=5,\n",
    "        popup=label,\n",
    "        color=rainbow[cluster-1],\n",
    "        fill=True,\n",
    "        fill_color=rainbow[cluster-1],\n",
    "        fill_opacity=0.5).add_to(map_cluster)\n",
    "       \n",
    "map_cluster"
   ]
  }
 ],
 "metadata": {
  "kernelspec": {
   "display_name": "Python 3",
   "language": "python",
   "name": "python3"
  },
  "language_info": {
   "codemirror_mode": {
    "name": "ipython",
    "version": 3
   },
   "file_extension": ".py",
   "mimetype": "text/x-python",
   "name": "python",
   "nbconvert_exporter": "python",
   "pygments_lexer": "ipython3",
   "version": "3.7.6"
  }
 },
 "nbformat": 4,
 "nbformat_minor": 4
}
